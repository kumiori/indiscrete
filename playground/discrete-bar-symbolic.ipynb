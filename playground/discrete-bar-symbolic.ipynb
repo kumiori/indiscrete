{
 "cells": [
  {
   "cell_type": "code",
   "execution_count": 47,
   "metadata": {},
   "outputs": [],
   "source": [
    "import sympy as sp\n",
    "import numpy as np\n",
    "import matplotlib.pyplot as plt\n",
    "import json\n",
    "import pandas as pd\n",
    "import os\n",
    "\n",
    "import yaml\n",
    "import hashlib"
   ]
  },
  {
   "cell_type": "code",
   "execution_count": 30,
   "metadata": {},
   "outputs": [],
   "source": [
    "from sympy import init_printing\n",
    "init_printing() \n"
   ]
  },
  {
   "cell_type": "code",
   "execution_count": 48,
   "metadata": {},
   "outputs": [],
   "source": [
    "class SymbolicDiscreteDamage:\n",
    "    def __init__(self, matpar, \n",
    "                 name = \"discrete generalised damage\",\n",
    "                 slug = \"general damage\"):\n",
    "        # self.state = state\n",
    "\n",
    "        self.state = self._state(matpar)\n",
    "        self.matpar = matpar\n",
    "        self.sympar = {str(key): sp.symbols(str(key)) for key in matpar.keys()}\n",
    "        self.str = name\n",
    "        self.slug = slug\n",
    "\n",
    "    def _state(self, matpar):\n",
    "\n",
    "        _N = matpar[\"N\"]\n",
    "        \n",
    "        u = sp.symbols([f\"u{i}\" for i in range(0, _N)])\n",
    "        e = sp.symbols([f\"e{i}\" for i in range(1, _N+1)])\n",
    "        α = sp.symbols([f\"α{i}\" for i in range(1, _N+1)])\n",
    "\n",
    "        return {\"u\": u, \"α\": α, \"e\": e}\n",
    "\n",
    "    def _s(self, αi):\n",
    "        s = sp.Function('s')\n",
    "        # s = 1/self._a(αi)\n",
    "        return s(αi)\n",
    "\n",
    "    def _a(self, αi):\n",
    "        γ = self.matpar[\"γ\"]\n",
    "        a = sp.Function('a')\n",
    "        return a(αi)\n",
    "    \n",
    "    def energy(self, state):\n",
    "        \"\"\"Total energy\"\"\"\n",
    "        return self._elastic(state) + self._damage(state) - self.work(state)\n",
    "\n",
    "    def work(self, state):\n",
    "        return 0\n",
    "\n",
    "    def _elastic(self, state):\n",
    "        e = state[\"e\"]\n",
    "        α = state[\"α\"]\n",
    "        _E0 = self.sympar[\"E0\"]\n",
    "        _N = self.sympar[\"N\"]\n",
    "    \n",
    "        return 1/_N * sum([1./2. * _E0 * self._a(α[i]) * e[i]**2 for i in range(len(α))])\n",
    "\n",
    "    def _w(self, αi):\n",
    "        w = sp.Function('w')\n",
    "\n",
    "        return w(αi)\n",
    "\n",
    "    def _damage(self, state):\n",
    "        _α = state[\"α\"]\n",
    "        _w1 = self.matpar[\"w1\"]\n",
    "\n",
    "        _N = self.matpar[\"N\"]\n",
    "\n",
    "        return 1/_N * sum([_w1 * self._w(_α[i]) for i in range(len(_α))])\n",
    "        # return _w1 * self._w(_α)\n",
    "\n",
    "\n",
    "    # Explicit expressions\n",
    "    def w(self, αi):\n",
    "        return αi\n",
    "\n",
    "    def boundary_condition(self):\n",
    "        t = sp.symbols('t')\n",
    "        N = sp.symbols(\"N\")\n",
    "        L = sp.symbols(\"L\")\n",
    "        \n",
    "        return t*N/L       \n",
    "\n",
    "    def a(self, αi):\n",
    "        γ = self.matpar[\"γ\"]\n",
    "\n",
    "        return (1 - self._w(αi)) / ((γ-1) * self._w(αi) + 1)\n",
    "\n",
    "    def s(self, αi):\n",
    "\n",
    "        return 1. / self.a(αi)\n",
    "\n",
    "\n",
    "    def __str__(self):\n",
    "     return self.str\n"
   ]
  },
  {
   "cell_type": "code",
   "execution_count": 83,
   "metadata": {},
   "outputs": [],
   "source": [
    "class ModelAnalysis:\n",
    "    \"\"\"Helper class to analyse (stability) properties of a model\"\"\"\n",
    "\n",
    "    def __init__(self, model):\n",
    "        self.model = model\n",
    "        self.state = model.state\n",
    "        _state = self.state\n",
    "        self.matpar = model.matpar\n",
    "\n",
    "        _β = sp.symbols('β')\n",
    "        _e = sp.symbols('e')\n",
    "        self._β = _β\n",
    "        self._e = _e\n",
    "        \n",
    "        self._s = model._s(_β)\n",
    "        self._sp = sp.diff(self._s, _β, 1)\n",
    "        self._spp = sp.diff(self._s, _β, 2)\n",
    "\n",
    "        self._a = model._a(_β)\n",
    "        self._ap = sp.diff(self._a, _β, 1)\n",
    "        self._app = sp.diff(self._a, _β, 2)\n",
    "\n",
    "        self._w = model._w(_β)\n",
    "        self._wp = sp.diff(self._w, _β)\n",
    "        self._wpp = sp.diff(self._w, _β, 2)\n",
    "\n",
    "        self.criterion()\n",
    "\n",
    "    def _equilirbrium_e(self):\n",
    "        state = self.state\n",
    "        t, L, N =  sp.symbols('t L N')\n",
    "        _S = sum([self.model._s(αi) for αi in state[\"α\"]])\n",
    "\n",
    "        datum = self.model.boundary_condition()\n",
    "        \n",
    "        _e = [(datum * self.model._s(αi) / _S).simplify() \\\n",
    "                    for αi in state[\"α\"]]\n",
    "\n",
    "        return _e\n",
    "    \n",
    "    def _elastic_energy_fc_alpha(self):\n",
    "        _ei = self._equilirbrium_e()\n",
    "        state = self.state\n",
    "        equilibrium_subs = {v[0]: v[1] for v in zip(state[\"e\"], _ei)}\n",
    "        subs_s_inverse = {sp.Function('a')(sp.Symbol(a.name)): 1/self.model._s(a) for a in state[\"α\"]}\n",
    "\n",
    "        return self.model._elastic(state).subs(equilibrium_subs).subs(subs_s_inverse).simplify()\n",
    "\n",
    "    def _state_split(self, m, state, matpar):\n",
    "        \"\"\"Split the state into homogeneous and bifurcated parts\"\"\"\n",
    "\n",
    "        assert m < matpar[N]\n",
    "\n",
    "        _bif_α = [state[\"α\"][k+1] for k in range(m)]\n",
    "        _bif_e = [state[\"e\"][k+1] for k in range(m)]\n",
    "\n",
    "        _homo_α = set(state[\"α\"]) - set(_bif_α)\n",
    "        _homo_e = set(state[\"e\"]) - set(_bif_e)\n",
    "\n",
    "        return _bif_α, _homo_α, _bif_e, _homo_e\n",
    "\n",
    "    def _state_homog_substitutions(self):\n",
    "        \"\"\"Substitutions for the homogeneous state\"\"\"\n",
    "        αt = sp.symbols('α_t')\n",
    "        et = sp.symbols('e_t')\n",
    "        state = self.model.state\n",
    "        _subs_αh = {a: αt for a in state[\"α\"]}\n",
    "        _subs_eh = {e: et for e in state[\"e\"]}\n",
    "\n",
    "        return _subs_αh, _subs_eh\n",
    "\n",
    "    def _state_bifurcation_substitutions(self, m, state, matpar):\n",
    "        \"\"\"Computes substitutions for bifurcated states\"\"\"\n",
    "\n",
    "        assert m < matpar[N]\n",
    "        _bif, _homo, _bif_e, _homo_e = self._state_split(m, state, matpar)\n",
    "        _αb = sp.symbols('α_t')\n",
    "        _eb = sp.symbols('e_t')\n",
    "        αt = sp.symbols(\"α^*\")\n",
    "        et = sp.symbols(\"e^*\")\n",
    "\n",
    "        _subs_αb = {a: _αb for a in _bif}\n",
    "        _subs_eb = {e: _eb for e in _bif_e}\n",
    "\n",
    "        _subs_αt = {a: αt for a in _homo}\n",
    "        _subs_et = {e: et for e in _homo_e}\n",
    "\n",
    "        return {**_subs_αb, **_subs_αt}, {**_subs_eb, **_subs_et}\n",
    "    \n",
    "    def criterion(self):\n",
    "        \"\"\"Damage onset\"\"\"\n",
    "        model, state = self.model, self.state\n",
    "        x = sp.symbols('x')\n",
    "        t, L, N =  sp.symbols('t L N')\n",
    "\n",
    "        β = self._β\n",
    "        e = self._e\n",
    "\n",
    "        # _u0 = t*x/L\n",
    "        _e0 = t/L\n",
    "        _α0 = 0\n",
    "\n",
    "        _homogeneous_damage = {a: β for a in state[\"α\"]}\n",
    "        _homogeneous_strain = {ε: e for ε in state[\"e\"]}\n",
    "\n",
    "        _crit = sp.diff(\n",
    "            model.energy(state)                 \\\n",
    "                .subs(_homogeneous_damage)      \\\n",
    "                .subs(_homogeneous_strain), β)  \\\n",
    "                .subs({e: _e0, β: _α0})    \n",
    "\n",
    "        self.crit = 1/N * _crit\n",
    "\n",
    "        return self.crit.simplify()\n",
    "\n",
    "    def critical_load(self, matpar = {}):\n",
    "        \"\"\"Critical load\"\"\"\n",
    "        _a = sp.Function('a')\n",
    "        _w = sp.Function('w')\n",
    "        t = sp.symbols('t')\n",
    "\n",
    "        criterion = self.crit           \\\n",
    "            .replace(_a, self.model.a)  \\\n",
    "            .replace(_w, self.model.w)\n",
    "\n",
    "        tc = sp.solve(criterion, t)\n",
    "        \n",
    "        if matpar:\n",
    "            tc = [_tc.subs(matpar) for _tc in tc if _tc.subs(matpar).is_positive]\n",
    "        \n",
    "        return tc, criterion\n",
    "\n",
    "    def energy_fc_alpha(self):\n",
    "        _ei = self._equilirbrium_e()\n",
    "        state = self.state\n",
    "        equilibrium_subs = {v[0]: v[1] for v in zip(state[\"e\"], _ei)}\n",
    "        subs_s_inverse = {sp.Function('a')(sp.Symbol(a.name)): 1/self.model._s(a) for a in state[\"α\"]}\n",
    "\n",
    "        return self.model.energy(state).subs(equilibrium_subs).subs(subs_s_inverse).simplify()\n",
    "\n",
    "    def homogeneous_α(self, state, matpar = {}):\n",
    "        \"\"\"Solves the (homogeneous) evolution law for damage\"\"\"\n",
    "        αt = sp.symbols('α_t')\n",
    "        state = self.state\n",
    "        \n",
    "        if matpar:\n",
    "            return [sol.subs(matpar) for sol in \\\n",
    "                    list(map(sp.simplify, sp.solve(self.evo_α(state, matpar), αt)))]\n",
    "        else:\n",
    "            return list(map(sp.simplify, sp.solve(self.evo_α(state), αt)))\n",
    "\n",
    "    def homogeneous_damage(self, state, matpar= {}):\n",
    "        idx = self.positive_solution_wrt_t(matpar)\n",
    "        _alpha = self.homogeneous_α(matpar)[idx].subs(matpar)\n",
    "        tc = self.critical_load(matpar)[0][0]\n",
    "        t = sp.symbols('t')\n",
    "\n",
    "        # tc = self.critical_load(matpar)\n",
    "        alpha = sp.Piecewise(\n",
    "            (_alpha, t >= tc),\n",
    "            (0, t < tc)\n",
    "        )\n",
    "\n",
    "        return alpha\n",
    "    #     stress_alpha = sp.Piecewise(\n",
    "        # (sp.sqrt(2 * self._wp / self._sp).subs({α: _ah}), t >= _tc),\n",
    "        # (sp.diff(_u0, x).subs(_matpar), t < _tc))\n",
    "\n",
    "    def evo_α(self, state, matpar = {}):\n",
    "        \"\"\"Evolution law for damage\"\"\"\n",
    "        αt = sp.symbols('α_t')\n",
    "        _a = sp.Function('a')\n",
    "        _w = sp.Function('w')\n",
    "\n",
    "        subs_homog_α, _ =  self._state_homog_substitutions()\n",
    "\n",
    "        energy = self.energy_fc_alpha()               \\\n",
    "            .subs(subs_homog_α)                       \\\n",
    "            .replace(sp.Function('s'), self.model.s)  \\\n",
    "            .replace(_w, self.model.w)                \\\n",
    "            .doit()\n",
    "        \n",
    "        if matpar:\n",
    "            energy = energy.subs(matpar)\n",
    "            \n",
    "        return sp.diff(energy, αt).simplify()\n",
    "\n",
    "    def positive_solution_wrt_t(self, _matpar = {}):\n",
    "        idx = np.where(np.array([sp.diff(eq, sp.symbols('t')).subs(_matpar) for eq in self.homogeneous_α(_matpar)]) > 0)[0]\n",
    "        return idx[0]"
   ]
  },
  {
   "cell_type": "code",
   "execution_count": 50,
   "metadata": {},
   "outputs": [
    {
     "data": {
      "image/png": "[encoded data removed]",
      "text/latex": [
       "$\\displaystyle \\frac{1.5 E_{0} t^{2} \\left. \\frac{d}{d β} a{\\left(β \\right)} \\right|_{\\substack{ β=0 }}}{L^{2} N^{2}} + \\frac{1.0 \\left. \\frac{d}{d β} w{\\left(β \\right)} \\right|_{\\substack{ β=0 }}}{N}$"
      ],
      "text/plain": [
       "        2 ⎛d       ⎞│          ⎛d       ⎞│   \n",
       "1.5⋅E₀⋅t ⋅⎜──(a(β))⎟│      1.0⋅⎜──(w(β))⎟│   \n",
       "          ⎝dβ      ⎠│β=0       ⎝dβ      ⎠│β=0\n",
       "──────────────────────── + ──────────────────\n",
       "          2  2                     N         \n",
       "         L ⋅N                                "
      ]
     },
     "execution_count": 50,
     "metadata": {},
     "output_type": "execute_result"
    }
   ],
   "source": [
    "# N = sp.symbols(\"N\")\n",
    "# t = sp.symbols('t')\n",
    "_a = sp.Function('a')\n",
    "_w = sp.Function('w')\n",
    "\n",
    "_N = 3\n",
    "\n",
    "# γ = sp.symbols('γ')\n",
    "# E0, L, w1, σc = sp.symbols('E0 L w1 σc')\n",
    "\n",
    "# u = sp.symbols([f\"u{i}\" for i in range(0, _N)])\n",
    "# e = sp.symbols([f\"e{i}\" for i in range(1, _N+1)])\n",
    "# α = sp.symbols([f\"α{i}\" for i in range(1, _N+1)])\n",
    "\n",
    "_α = sp.symbols(\"α\")\n",
    "β = sp.symbols('β')\n",
    "\n",
    "# state = {\"u\": u, \"α\": α, \"e\": e}\n",
    "_matpar = {\"N\": 3, \"γ\": 2, \"E0\": 1, \"w1\": 1, \"L\": 1}\n",
    "# matpar = {\"N\": N, \"γ\": γ, \"E0\": E0, \"w1\": w1, \"L\": L}\n",
    "\n",
    "atls = SymbolicDiscreteDamage(_matpar)\n",
    "\n",
    "system = ModelAnalysis(atls)\n",
    "system.criterion()\n"
   ]
  },
  {
   "cell_type": "code",
   "execution_count": 29,
   "metadata": {},
   "outputs": [
    {
     "data": {
      "text/plain": [
       "'\\\\frac{1.5 E_{0} t^{2} \\\\left. \\\\frac{d}{d β} a{\\\\left(β \\\\right)} \\\\right|_{\\\\substack{ β=0 }}}{L^{2} N^{2}} + \\\\frac{1.0 \\\\left. \\\\frac{d}{d β} w{\\\\left(β \\\\right)} \\\\right|_{\\\\substack{ β=0 }}}{N}'"
      ]
     },
     "execution_count": 29,
     "metadata": {},
     "output_type": "execute_result"
    }
   ],
   "source": [
    "sp.latex(_)"
   ]
  },
  {
   "cell_type": "code",
   "execution_count": 51,
   "metadata": {},
   "outputs": [
    {
     "data": {
      "text/plain": [
       "{'u': [u0, u1, u2], 'α': [α1, α2, α3], 'e': [e1, e2, e3]}"
      ]
     },
     "execution_count": 51,
     "metadata": {},
     "output_type": "execute_result"
    }
   ],
   "source": [
    "atls.state"
   ]
  },
  {
   "cell_type": "code",
   "execution_count": 52,
   "metadata": {},
   "outputs": [
    {
     "data": {
      "image/png": "[encoded data removed]",
      "text/latex": [
       "$\\displaystyle \\frac{0.5 E_{0} e_{1}^{2} a{\\left(α_{1} \\right)} + 0.5 E_{0} e_{2}^{2} a{\\left(α_{2} \\right)} + 0.5 E_{0} e_{3}^{2} a{\\left(α_{3} \\right)}}{N}$"
      ],
      "text/plain": [
       "         2                  2                  2      \n",
       "0.5⋅E₀⋅e₁ ⋅a(α₁) + 0.5⋅E₀⋅e₂ ⋅a(α₂) + 0.5⋅E₀⋅e₃ ⋅a(α₃)\n",
       "──────────────────────────────────────────────────────\n",
       "                          N                           "
      ]
     },
     "execution_count": 52,
     "metadata": {},
     "output_type": "execute_result"
    }
   ],
   "source": [
    "atls._elastic(system.state)"
   ]
  },
  {
   "cell_type": "code",
   "execution_count": 53,
   "metadata": {},
   "outputs": [
    {
     "data": {
      "image/png": "[encoded data removed]",
      "text/latex": [
       "$\\displaystyle \\frac{1.5 E_{0} t^{2} \\left. \\frac{d}{d β} a{\\left(β \\right)} \\right|_{\\substack{ β=0 }}}{L^{2} N^{2}} + \\frac{1.0 \\left. \\frac{d}{d β} w{\\left(β \\right)} \\right|_{\\substack{ β=0 }}}{N}$"
      ],
      "text/plain": [
       "        2 ⎛d       ⎞│          ⎛d       ⎞│   \n",
       "1.5⋅E₀⋅t ⋅⎜──(a(β))⎟│      1.0⋅⎜──(w(β))⎟│   \n",
       "          ⎝dβ      ⎠│β=0       ⎝dβ      ⎠│β=0\n",
       "──────────────────────── + ──────────────────\n",
       "          2  2                     N         \n",
       "         L ⋅N                                "
      ]
     },
     "execution_count": 53,
     "metadata": {},
     "output_type": "execute_result"
    }
   ],
   "source": [
    "system.criterion().simplify()"
   ]
  },
  {
   "cell_type": "code",
   "execution_count": 54,
   "metadata": {},
   "outputs": [
    {
     "data": {
      "image/png": "[encoded data removed]",
      "text/latex": [
       "$\\displaystyle - \\frac{3.0 E_{0} t^{2}}{L^{2} N^{2}} + \\frac{1.0}{N}$"
      ],
      "text/plain": [
       "          2      \n",
       "  3.0⋅E₀⋅t    1.0\n",
       "- ───────── + ───\n",
       "     2  2      N \n",
       "    L ⋅N         "
      ]
     },
     "execution_count": 54,
     "metadata": {},
     "output_type": "execute_result"
    }
   ],
   "source": [
    "(system.criterion()  \\\n",
    "    .replace(_a, system.model.a )    \\\n",
    "    .replace(_w, system.model.w).doit()).simplify()"
   ]
  },
  {
   "cell_type": "code",
   "execution_count": 55,
   "metadata": {},
   "outputs": [
    {
     "data": {
      "image/png": "[encoded data removed]",
      "text/latex": [
       "$\\displaystyle \\left[ 0.577350269189626 \\sqrt{3}\\right]$"
      ],
      "text/plain": [
       "[0.577350269189626⋅√3]"
      ]
     },
     "execution_count": 55,
     "metadata": {},
     "output_type": "execute_result"
    }
   ],
   "source": [
    "tc, criterion = system.critical_load(_matpar)\n",
    "tc"
   ]
  },
  {
   "cell_type": "code",
   "execution_count": 56,
   "metadata": {},
   "outputs": [
    {
     "data": {
      "image/png": "[encoded data removed]",
      "text/latex": [
       "$\\displaystyle \\left( \\left\\{ α_{1} : α_{t}, \\  α_{2} : α_{t}, \\  α_{3} : α_{t}\\right\\}, \\  \\left\\{ e_{1} : e_{t}, \\  e_{2} : e_{t}, \\  e_{3} : e_{t}\\right\\}\\right)$"
      ],
      "text/plain": [
       "({α₁: αₜ, α₂: αₜ, α₃: αₜ}, {e₁: eₜ, e₂: eₜ, e₃: eₜ})"
      ]
     },
     "execution_count": 56,
     "metadata": {},
     "output_type": "execute_result"
    }
   ],
   "source": [
    "system._state_homog_substitutions()"
   ]
  },
  {
   "cell_type": "code",
   "execution_count": 57,
   "metadata": {},
   "outputs": [
    {
     "data": {
      "image/png": "[encoded data removed]",
      "text/latex": [
       "$\\displaystyle \\left[ \\frac{N t s{\\left(α_{1} \\right)}}{L \\left(s{\\left(α_{1} \\right)} + s{\\left(α_{2} \\right)} + s{\\left(α_{3} \\right)}\\right)}, \\  \\frac{N t s{\\left(α_{2} \\right)}}{L \\left(s{\\left(α_{1} \\right)} + s{\\left(α_{2} \\right)} + s{\\left(α_{3} \\right)}\\right)}, \\  \\frac{N t s{\\left(α_{3} \\right)}}{L \\left(s{\\left(α_{1} \\right)} + s{\\left(α_{2} \\right)} + s{\\left(α_{3} \\right)}\\right)}\\right]$"
      ],
      "text/plain": [
       "⎡        N⋅t⋅s(α₁)                  N⋅t⋅s(α₂)                  N⋅t⋅s(α₃)      \n",
       "⎢─────────────────────────, ─────────────────────────, ───────────────────────\n",
       "⎣L⋅(s(α₁) + s(α₂) + s(α₃))  L⋅(s(α₁) + s(α₂) + s(α₃))  L⋅(s(α₁) + s(α₂) + s(α₃\n",
       "\n",
       "  ⎤\n",
       "──⎥\n",
       "))⎦"
      ]
     },
     "execution_count": 57,
     "metadata": {},
     "output_type": "execute_result"
    }
   ],
   "source": [
    "system._equilirbrium_e()"
   ]
  },
  {
   "cell_type": "code",
   "execution_count": 58,
   "metadata": {},
   "outputs": [
    {
     "data": {
      "image/png": "[encoded data removed]",
      "text/latex": [
       "$\\displaystyle \\frac{N^{2} t^{2} \\left(s^{2}{\\left(α_{1} \\right)} + s^{2}{\\left(α_{2} \\right)} + s^{2}{\\left(α_{3} \\right)}\\right)}{L^{2} \\left(s{\\left(α_{1} \\right)} + s{\\left(α_{2} \\right)} + s{\\left(α_{3} \\right)}\\right)^{2}}$"
      ],
      "text/plain": [
       " 2  2 ⎛ 2        2        2    ⎞\n",
       "N ⋅t ⋅⎝s (α₁) + s (α₂) + s (α₃)⎠\n",
       "────────────────────────────────\n",
       "   2                        2   \n",
       "  L ⋅(s(α₁) + s(α₂) + s(α₃))    "
      ]
     },
     "execution_count": 58,
     "metadata": {},
     "output_type": "execute_result"
    }
   ],
   "source": [
    "sum([e**2 for e in system._equilirbrium_e()]).simplify()"
   ]
  },
  {
   "cell_type": "code",
   "execution_count": 59,
   "metadata": {},
   "outputs": [
    {
     "data": {
      "image/png": "[encoded data removed]",
      "text/latex": [
       "$\\displaystyle \\frac{N t}{L}$"
      ],
      "text/plain": [
       "N⋅t\n",
       "───\n",
       " L "
      ]
     },
     "execution_count": 59,
     "metadata": {},
     "output_type": "execute_result"
    }
   ],
   "source": [
    "np.sum([e.subs({a: 0 for a in system.state['α']}) for e in system._equilirbrium_e()])"
   ]
  },
  {
   "cell_type": "code",
   "execution_count": 60,
   "metadata": {},
   "outputs": [
    {
     "data": {
      "image/png": "[encoded data removed]",
      "text/latex": [
       "$\\displaystyle \\frac{0.5 E_{0} N t^{2} s{\\left(α_{1} \\right)} + 0.5 E_{0} N t^{2} s{\\left(α_{2} \\right)} + 0.5 E_{0} N t^{2} s{\\left(α_{3} \\right)} + 0.333333333333333 L^{2} \\left(s{\\left(α_{1} \\right)} + s{\\left(α_{2} \\right)} + s{\\left(α_{3} \\right)}\\right)^{2} \\left(w{\\left(α_{1} \\right)} + w{\\left(α_{2} \\right)} + w{\\left(α_{3} \\right)}\\right)}{L^{2} \\left(s{\\left(α_{1} \\right)} + s{\\left(α_{2} \\right)} + s{\\left(α_{3} \\right)}\\right)^{2}}$"
      ],
      "text/plain": [
       "          2                   2                   2                           \n",
       "0.5⋅E₀⋅N⋅t ⋅s(α₁) + 0.5⋅E₀⋅N⋅t ⋅s(α₂) + 0.5⋅E₀⋅N⋅t ⋅s(α₃) + 0.333333333333333⋅\n",
       "──────────────────────────────────────────────────────────────────────────────\n",
       "                                                    2                        2\n",
       "                                                   L ⋅(s(α₁) + s(α₂) + s(α₃)) \n",
       "\n",
       " 2                        2                        \n",
       "L ⋅(s(α₁) + s(α₂) + s(α₃)) ⋅(w(α₁) + w(α₂) + w(α₃))\n",
       "───────────────────────────────────────────────────\n",
       "                                                   \n",
       "                                                   "
      ]
     },
     "execution_count": 60,
     "metadata": {},
     "output_type": "execute_result"
    }
   ],
   "source": [
    "system.energy_fc_alpha().simplify()"
   ]
  },
  {
   "cell_type": "code",
   "execution_count": 61,
   "metadata": {},
   "outputs": [
    {
     "data": {
      "image/png": "[encoded data removed]",
      "text/latex": [
       "$\\displaystyle \\frac{0.5 E_{0} N t^{2}}{L^{2} \\left(s{\\left(α_{1} \\right)} + s{\\left(α_{2} \\right)} + s{\\left(α_{3} \\right)}\\right)}$"
      ],
      "text/plain": [
       "                 2        \n",
       "       0.5⋅E₀⋅N⋅t         \n",
       "──────────────────────────\n",
       " 2                        \n",
       "L ⋅(s(α₁) + s(α₂) + s(α₃))"
      ]
     },
     "execution_count": 61,
     "metadata": {},
     "output_type": "execute_result"
    }
   ],
   "source": [
    "system._elastic_energy_fc_alpha().simplify()"
   ]
  },
  {
   "cell_type": "code",
   "execution_count": 62,
   "metadata": {},
   "outputs": [
    {
     "data": {
      "image/png": "[encoded data removed]",
      "text/latex": [
       "$\\displaystyle \\left( \\left\\{ α_{1} : α_{t}, \\  α_{2} : α_{t}, \\  α_{3} : α_{t}\\right\\}, \\  \\left\\{ e_{1} : e_{t}, \\  e_{2} : e_{t}, \\  e_{3} : e_{t}\\right\\}\\right)$"
      ],
      "text/plain": [
       "({α₁: αₜ, α₂: αₜ, α₃: αₜ}, {e₁: eₜ, e₂: eₜ, e₃: eₜ})"
      ]
     },
     "execution_count": 62,
     "metadata": {},
     "output_type": "execute_result"
    }
   ],
   "source": [
    "subs_homog_α, subs_homog_e =  system._state_homog_substitutions()\n",
    "subs_homog_α, subs_homog_e"
   ]
  },
  {
   "cell_type": "code",
   "execution_count": 63,
   "metadata": {},
   "outputs": [
    {
     "data": {
      "image/png": "[encoded data removed]",
      "text/latex": [
       "$\\displaystyle \\frac{1.5 E_{0} N t^{2} s{\\left(α_{t} \\right)} + 9.0 L^{2} s^{2}{\\left(α_{t} \\right)} w{\\left(α_{t} \\right)}}{9 L^{2} s^{2}{\\left(α_{t} \\right)}}$"
      ],
      "text/plain": [
       "          2              2  2          \n",
       "1.5⋅E₀⋅N⋅t ⋅s(αₜ) + 9.0⋅L ⋅s (αₜ)⋅w(αₜ)\n",
       "───────────────────────────────────────\n",
       "                 2  2                  \n",
       "              9⋅L ⋅s (αₜ)              "
      ]
     },
     "execution_count": 63,
     "metadata": {},
     "output_type": "execute_result"
    }
   ],
   "source": [
    "system.energy_fc_alpha().subs(subs_homog_α)"
   ]
  },
  {
   "cell_type": "code",
   "execution_count": 64,
   "metadata": {},
   "outputs": [
    {
     "data": {
      "image/png": "[encoded data removed]",
      "text/latex": [
       "$\\displaystyle \\frac{4.5 t^{2} s{\\left(α_{t} \\right)} + 9.0 s^{2}{\\left(α_{t} \\right)} w{\\left(α_{t} \\right)}}{9 s^{2}{\\left(α_{t} \\right)}}$"
      ],
      "text/plain": [
       "     2              2          \n",
       "4.5⋅t ⋅s(αₜ) + 9.0⋅s (αₜ)⋅w(αₜ)\n",
       "───────────────────────────────\n",
       "               2               \n",
       "            9⋅s (αₜ)           "
      ]
     },
     "execution_count": 64,
     "metadata": {},
     "output_type": "execute_result"
    }
   ],
   "source": [
    "(system.energy_fc_alpha().subs(subs_homog_α)).subs(_matpar)"
   ]
  },
  {
   "cell_type": "code",
   "execution_count": 65,
   "metadata": {},
   "outputs": [],
   "source": [
    "_a = sp.Function('a')\n",
    "_w = sp.Function('w')\n",
    "_s = sp.Function('s')\n"
   ]
  },
  {
   "cell_type": "markdown",
   "metadata": {},
   "source": [
    "$$\n",
    "\\begin{aligned}\n",
    "\\mathcal E_N (e, \\alpha) &=  E_0\\sum_{i=0}^N \\frac{1}{2}    a(\\alpha_i)  e_i^2  + \\sum_{i=0}^N {w_1}w(\\alpha_i) \\\\\n",
    "{\\mathcal E} (u, \\alpha) = \\frac{\\mathcal E_N (e, \\alpha)}{N} &=  E_0 N\\sum_{i=0}^N \\frac{1}{2}  a(\\alpha_i)  (u_i-u_{i-1})^2  + \\frac{w_1}{N} \\sum_{i=0}^N w(\\alpha_i) \n",
    "\\end{aligned}\n",
    "$$"
   ]
  },
  {
   "cell_type": "code",
   "execution_count": 69,
   "metadata": {},
   "outputs": [
    {
     "data": {
      "image/png": "[encoded data removed]",
      "text/latex": [
       "$\\displaystyle α_{1}$"
      ],
      "text/plain": [
       "α₁"
      ]
     },
     "execution_count": 69,
     "metadata": {},
     "output_type": "execute_result"
    }
   ],
   "source": [
    "system.state[\"α\"][0]"
   ]
  },
  {
   "cell_type": "code",
   "execution_count": 72,
   "metadata": {},
   "outputs": [
    {
     "data": {
      "image/png": "[encoded data removed]",
      "text/latex": [
       "$\\displaystyle \\left( s{\\left(α \\right)}, \\  \\frac{1.0 \\left(w{\\left(α \\right)} + 1\\right)}{1 - w{\\left(α \\right)}}\\right)$"
      ],
      "text/plain": [
       "⎛      1.0⋅(w(α) + 1)⎞\n",
       "⎜s(α), ──────────────⎟\n",
       "⎝         1 - w(α)   ⎠"
      ]
     },
     "execution_count": 72,
     "metadata": {},
     "output_type": "execute_result"
    }
   ],
   "source": [
    "# Keeping track of both symboilic and explicit expressions\n",
    "\n",
    "atls._s(sp.symbols('α')), atls.s(sp.symbols('α'))"
   ]
  },
  {
   "cell_type": "code",
   "execution_count": 73,
   "metadata": {},
   "outputs": [
    {
     "data": {
      "image/png": "[encoded data removed]",
      "text/latex": [
       "$\\displaystyle \\frac{0.5 \\cdot \\left(1.0 E_{0} e_{1}^{2} a{\\left(α_{1} \\right)} + 1.0 E_{0} e_{2}^{2} a{\\left(α_{2} \\right)} + 1.0 E_{0} e_{3}^{2} a{\\left(α_{3} \\right)} + 0.666666666666667 N w{\\left(α_{1} \\right)} + 0.666666666666667 N w{\\left(α_{2} \\right)} + 0.666666666666667 N w{\\left(α_{3} \\right)}\\right)}{N}$"
      ],
      "text/plain": [
       "    ⎛         2                  2                  2                         \n",
       "0.5⋅⎝1.0⋅E₀⋅e₁ ⋅a(α₁) + 1.0⋅E₀⋅e₂ ⋅a(α₂) + 1.0⋅E₀⋅e₃ ⋅a(α₃) + 0.66666666666666\n",
       "──────────────────────────────────────────────────────────────────────────────\n",
       "                                                                       N      \n",
       "\n",
       "                                                                 ⎞\n",
       "7⋅N⋅w(α₁) + 0.666666666666667⋅N⋅w(α₂) + 0.666666666666667⋅N⋅w(α₃)⎠\n",
       "──────────────────────────────────────────────────────────────────\n",
       "                                                                  "
      ]
     },
     "execution_count": 73,
     "metadata": {},
     "output_type": "execute_result"
    }
   ],
   "source": [
    "atls.energy(system.state).factor()"
   ]
  },
  {
   "cell_type": "code",
   "execution_count": 74,
   "metadata": {},
   "outputs": [
    {
     "data": {
      "image/png": "[encoded data removed]",
      "text/latex": [
       "$\\displaystyle 0.333333333333333 w{\\left(α_{1} \\right)} + 0.333333333333333 w{\\left(α_{2} \\right)} + 0.333333333333333 w{\\left(α_{3} \\right)} + \\frac{0.5 E_{0} e_{1}^{2} a{\\left(α_{1} \\right)} + 0.5 E_{0} e_{2}^{2} a{\\left(α_{2} \\right)} + 0.5 E_{0} e_{3}^{2} a{\\left(α_{3} \\right)}}{N}$"
      ],
      "text/plain": [
       "                                                                              \n",
       "                                                                              \n",
       "0.333333333333333⋅w(α₁) + 0.333333333333333⋅w(α₂) + 0.333333333333333⋅w(α₃) + \n",
       "                                                                              \n",
       "\n",
       "         2                  2                  2      \n",
       "0.5⋅E₀⋅e₁ ⋅a(α₁) + 0.5⋅E₀⋅e₂ ⋅a(α₂) + 0.5⋅E₀⋅e₃ ⋅a(α₃)\n",
       "──────────────────────────────────────────────────────\n",
       "                          N                           "
      ]
     },
     "execution_count": 74,
     "metadata": {},
     "output_type": "execute_result"
    }
   ],
   "source": [
    "system.model.energy(system.state)\n",
    "\n",
    "# _homogeneous_damage = {a: β for a in state[\"α\"]}\n",
    "# _homogeneous_strain = {e: model._e for e in state[\"e\"]}\n",
    "# _homogeneous_damage, _homogeneous_strain\n"
   ]
  },
  {
   "cell_type": "code",
   "execution_count": 75,
   "metadata": {},
   "outputs": [
    {
     "data": {
      "image/png": "[encoded data removed]",
      "text/latex": [
       "$\\displaystyle \\left\\{ α_{1} : 0, \\  α_{2} : 0, \\  α_{3} : 0\\right\\}$"
      ],
      "text/plain": [
       "{α₁: 0, α₂: 0, α₃: 0}"
      ]
     },
     "execution_count": 75,
     "metadata": {},
     "output_type": "execute_result"
    }
   ],
   "source": [
    "_sound = {a: 0 for a in system.state[\"α\"]}\n",
    "_sound"
   ]
  },
  {
   "cell_type": "markdown",
   "metadata": {},
   "source": [
    "## Model Analysis\n",
    "\n",
    "- (constitutive assumptions)\n",
    "- equilibrium\n",
    "- homogeneous solution\n",
    "- homogeneous energy\n",
    "- bifurcations\n",
    "- stability"
   ]
  },
  {
   "cell_type": "code",
   "execution_count": 84,
   "metadata": {},
   "outputs": [
    {
     "data": {
      "image/png": "[encoded data removed]",
      "text/latex": [
       "$\\displaystyle 0.166666666666667 t^{2} \\left. \\frac{d}{d β} a{\\left(β \\right)} \\right|_{\\substack{ β=0 }} + 0.333333333333333 \\left. \\frac{d}{d β} w{\\left(β \\right)} \\right|_{\\substack{ β=0 }}$"
      ],
      "text/plain": [
       "                   2 ⎛d       ⎞│                        ⎛d       ⎞│   \n",
       "0.166666666666667⋅t ⋅⎜──(a(β))⎟│    + 0.333333333333333⋅⎜──(w(β))⎟│   \n",
       "                     ⎝dβ      ⎠│β=0                     ⎝dβ      ⎠│β=0"
      ]
     },
     "execution_count": 84,
     "metadata": {},
     "output_type": "execute_result"
    }
   ],
   "source": [
    "atls = SymbolicDiscreteDamage(_matpar)\n",
    "system = ModelAnalysis(atls)\n",
    "(system.criterion()).subs(_matpar)"
   ]
  },
  {
   "cell_type": "markdown",
   "metadata": {},
   "source": [
    "### homogeneous solution"
   ]
  },
  {
   "cell_type": "code",
   "execution_count": 85,
   "metadata": {},
   "outputs": [
    {
     "data": {
      "image/png": "[encoded data removed]",
      "text/latex": [
       "$\\displaystyle \\left\\{ e_{1} : \\frac{N t s{\\left(α_{1} \\right)}}{L \\left(s{\\left(α_{1} \\right)} + s{\\left(α_{2} \\right)} + s{\\left(α_{3} \\right)}\\right)}, \\  e_{2} : \\frac{N t s{\\left(α_{2} \\right)}}{L \\left(s{\\left(α_{1} \\right)} + s{\\left(α_{2} \\right)} + s{\\left(α_{3} \\right)}\\right)}, \\  e_{3} : \\frac{N t s{\\left(α_{3} \\right)}}{L \\left(s{\\left(α_{1} \\right)} + s{\\left(α_{2} \\right)} + s{\\left(α_{3} \\right)}\\right)}\\right\\}$"
      ],
      "text/plain": [
       "⎧            N⋅t⋅s(α₁)                      N⋅t⋅s(α₂)                      N⋅t\n",
       "⎨e₁: ─────────────────────────, e₂: ─────────────────────────, e₃: ───────────\n",
       "⎩    L⋅(s(α₁) + s(α₂) + s(α₃))      L⋅(s(α₁) + s(α₂) + s(α₃))      L⋅(s(α₁) + \n",
       "\n",
       "⋅s(α₃)        ⎫\n",
       "──────────────⎬\n",
       "s(α₂) + s(α₃))⎭"
      ]
     },
     "execution_count": 85,
     "metadata": {},
     "output_type": "execute_result"
    }
   ],
   "source": [
    "_ei = system._equilirbrium_e()\n",
    "equilibrium_subs = {v[0]: v[1] for v in zip(system.state[\"e\"], _ei)}\n",
    "\n",
    "equilibrium_subs"
   ]
  },
  {
   "cell_type": "code",
   "execution_count": 86,
   "metadata": {},
   "outputs": [
    {
     "data": {
      "image/png": "[encoded data removed]",
      "text/latex": [
       "$\\displaystyle \\frac{0.5 E_{0} N t^{2} s{\\left(α_{1} \\right)} + 0.5 E_{0} N t^{2} s{\\left(α_{2} \\right)} + 0.5 E_{0} N t^{2} s{\\left(α_{3} \\right)} + 0.333333333333333 L^{2} \\left(s{\\left(α_{1} \\right)} + s{\\left(α_{2} \\right)} + s{\\left(α_{3} \\right)}\\right)^{2} \\left(w{\\left(α_{1} \\right)} + w{\\left(α_{2} \\right)} + w{\\left(α_{3} \\right)}\\right)}{L^{2} \\left(s{\\left(α_{1} \\right)} + s{\\left(α_{2} \\right)} + s{\\left(α_{3} \\right)}\\right)^{2}}$"
      ],
      "text/plain": [
       "          2                   2                   2                           \n",
       "0.5⋅E₀⋅N⋅t ⋅s(α₁) + 0.5⋅E₀⋅N⋅t ⋅s(α₂) + 0.5⋅E₀⋅N⋅t ⋅s(α₃) + 0.333333333333333⋅\n",
       "──────────────────────────────────────────────────────────────────────────────\n",
       "                                                    2                        2\n",
       "                                                   L ⋅(s(α₁) + s(α₂) + s(α₃)) \n",
       "\n",
       " 2                        2                        \n",
       "L ⋅(s(α₁) + s(α₂) + s(α₃)) ⋅(w(α₁) + w(α₂) + w(α₃))\n",
       "───────────────────────────────────────────────────\n",
       "                                                   \n",
       "                                                   "
      ]
     },
     "execution_count": 86,
     "metadata": {},
     "output_type": "execute_result"
    }
   ],
   "source": [
    "system.energy_fc_alpha() \n"
   ]
  },
  {
   "cell_type": "code",
   "execution_count": 87,
   "metadata": {},
   "outputs": [
    {
     "data": {
      "image/png": "[encoded data removed]",
      "text/latex": [
       "$\\displaystyle \\frac{- 0.333333333333333 E_{0} N t^{2} + 1.0 L^{2} α_{t}^{2} + 2.0 L^{2} α_{t} + 1.0 L^{2}}{L^{2} \\cdot \\left(1.0 α_{t}^{2} + 2.0 α_{t} + 1.0\\right)}$"
      ],
      "text/plain": [
       "                          2        2   2        2           2\n",
       "- 0.333333333333333⋅E₀⋅N⋅t  + 1.0⋅L ⋅αₜ  + 2.0⋅L ⋅αₜ + 1.0⋅L \n",
       "─────────────────────────────────────────────────────────────\n",
       "                  2 ⎛      2               ⎞                 \n",
       "                 L ⋅⎝1.0⋅αₜ  + 2.0⋅αₜ + 1.0⎠                 "
      ]
     },
     "execution_count": 87,
     "metadata": {},
     "output_type": "execute_result"
    }
   ],
   "source": [
    "system.evo_α(system.state)"
   ]
  },
  {
   "cell_type": "code",
   "execution_count": 88,
   "metadata": {},
   "outputs": [
    {
     "data": {
      "image/png": "[encoded data removed]",
      "text/latex": [
       "$\\displaystyle \\frac{- 1.0 t^{2} + 1.0 α_{t}^{2} + 2.0 α_{t} + 1.0}{1.0 α_{t}^{2} + 2.0 α_{t} + 1.0}$"
      ],
      "text/plain": [
       "   2         2               \n",
       "- t  + 1.0⋅αₜ  + 2.0⋅αₜ + 1.0\n",
       "─────────────────────────────\n",
       "          2                  \n",
       "    1.0⋅αₜ  + 2.0⋅αₜ + 1.0   "
      ]
     },
     "execution_count": 88,
     "metadata": {},
     "output_type": "execute_result"
    }
   ],
   "source": [
    "system.evo_α(system.state, _matpar)"
   ]
  },
  {
   "cell_type": "code",
   "execution_count": 89,
   "metadata": {},
   "outputs": [
    {
     "data": {
      "image/png": "[encoded data removed]",
      "text/latex": [
       "$\\displaystyle \\left[ \\frac{- L - 0.577350269189626 t \\sqrt{E_{0} N}}{L}, \\  \\frac{- L + 0.577350269189626 t \\sqrt{E_{0} N}}{L}\\right]$"
      ],
      "text/plain": [
       "⎡                           ______                             ______⎤\n",
       "⎢-L - 0.577350269189626⋅t⋅╲╱ E₀⋅N   -L + 0.577350269189626⋅t⋅╲╱ E₀⋅N ⎥\n",
       "⎢─────────────────────────────────, ─────────────────────────────────⎥\n",
       "⎣                L                                  L                ⎦"
      ]
     },
     "execution_count": 89,
     "metadata": {},
     "output_type": "execute_result"
    }
   ],
   "source": [
    "system.homogeneous_α(system.state)"
   ]
  },
  {
   "cell_type": "code",
   "execution_count": 90,
   "metadata": {},
   "outputs": [
    {
     "data": {
      "image/png": "[encoded data removed]",
      "text/latex": [
       "$\\displaystyle \\left[ - t - 1.0, \\  t - 1.0\\right]$"
      ],
      "text/plain": [
       "[-t - 1.0, t - 1.0]"
      ]
     },
     "execution_count": 90,
     "metadata": {},
     "output_type": "execute_result"
    }
   ],
   "source": [
    "system.homogeneous_α(system.state, _matpar)"
   ]
  },
  {
   "cell_type": "code",
   "execution_count": 91,
   "metadata": {},
   "outputs": [
    {
     "data": {
      "text/plain": [
       "1"
      ]
     },
     "execution_count": 91,
     "metadata": {},
     "output_type": "execute_result"
    }
   ],
   "source": [
    "idx = system.positive_solution_wrt_t(_matpar)\n",
    "idx"
   ]
  },
  {
   "cell_type": "code",
   "execution_count": 92,
   "metadata": {},
   "outputs": [
    {
     "data": {
      "image/png": "[encoded data removed]",
      "text/latex": [
       "$\\displaystyle 0.577350269189626 \\sqrt{3} t - 1$"
      ],
      "text/plain": [
       "0.577350269189626⋅√3⋅t - 1"
      ]
     },
     "execution_count": 92,
     "metadata": {},
     "output_type": "execute_result"
    }
   ],
   "source": [
    "sp.simplify(system.homogeneous_α(_matpar)[idx]).subs(_matpar)"
   ]
  },
  {
   "cell_type": "markdown",
   "metadata": {},
   "source": [
    "### Homogeneous varying N"
   ]
  },
  {
   "cell_type": "code",
   "execution_count": 97,
   "metadata": {},
   "outputs": [
    {
     "name": "stderr",
     "output_type": "stream",
     "text": [
      "<>:43: SyntaxWarning: invalid escape sequence '\\d'\n",
      "<>:43: SyntaxWarning: invalid escape sequence '\\d'\n",
      "/var/folders/ht/z8sb7wsd1bg0qpmyyfyq2rcm0000gr/T/ipykernel_517/2746674941.py:43: SyntaxWarning: invalid escape sequence '\\d'\n",
      "  ax.plot(_loads, _f(_loads), c=\"k\", lw=5, label=f\"$\\dot \\\\alpha_N \\geq 0, N={_N}$\")\n"
     ]
    },
    {
     "data": {
      "text/plain": [
       "<matplotlib.legend.Legend at 0x12711c890>"
      ]
     },
     "execution_count": 97,
     "metadata": {},
     "output_type": "execute_result"
    },
    {
     "data": {
      "image/png": "[encoded data removed]",
      "text/plain": [
       "<Figure size 800x600 with 1 Axes>"
      ]
     },
     "metadata": {},
     "output_type": "display_data"
    }
   ],
   "source": [
    "N = sp.symbols(\"N\")\n",
    "t = sp.symbols(\"t\")\n",
    "_a = sp.Function(\"a\")\n",
    "_w = sp.Function(\"w\")\n",
    "γ = sp.symbols(\"γ\")\n",
    "E0, L, w1, σc = sp.symbols(\"E0 L w1 σc\")\n",
    "β = sp.symbols(\"β\")\n",
    "\n",
    "fig, ax = plt.subplots(1, 1, figsize=(8, 6))\n",
    "\n",
    "for _N in range(1, 5):\n",
    "    u = sp.symbols([f\"u{i}\" for i in range(0, _N)])\n",
    "    e = sp.symbols([f\"e{i}\" for i in range(1, _N + 1)])\n",
    "    α = sp.symbols([f\"α{i}\" for i in range(1, _N + 1)])\n",
    "    _α = sp.symbols(\"α\")\n",
    "\n",
    "    state = {\"u\": u, \"α\": α, \"e\": e}\n",
    "    _matpar = {\"N\": _N, \"γ\": 2, \"E0\": 1, \"w1\": 1, \"L\": 1}\n",
    "    matpar = {\"N\": N, \"γ\": γ, \"E0\": E0, \"w1\": w1, \"L\": L}\n",
    "    _loads = np.linspace(0.0, float(γ.subs(_matpar)), 30)\n",
    "\n",
    "    atls = SymbolicDiscreteDamage(_matpar)\n",
    "\n",
    "    system = ModelAnalysis(atls)\n",
    "    # print(model.criterion())\n",
    "\n",
    "    # subs_homog_α, subs_homog_e =  model._state_homog_substitutions(state)\n",
    "\n",
    "    # Substitutions to compute homogeneous solutions\n",
    "    # print(subs_homog_α, subs_homog_e)\n",
    "    # print(model.homogeneous_α(state, _matpar))\n",
    "    idx = system.positive_solution_wrt_t(_matpar)\n",
    "    # print(idx)\n",
    "\n",
    "    evos = [evo.subs(_matpar) for evo in system.homogeneous_α(_matpar)]\n",
    "    evo_x = evos[idx].subs(_matpar)\n",
    "\n",
    "    for alphas in evos:\n",
    "        _f = sp.lambdify(t, alphas.subs(_matpar), \"numpy\")\n",
    "        plt.plot(_loads, _f(_loads), c=\"k\")\n",
    "\n",
    "    _f = sp.lambdify(t, evo_x, \"numpy\")\n",
    "    ax.plot(_loads, _f(_loads), c=\"k\", lw=5, label=f\"$\\dot \\\\alpha_N \\geq 0, N={_N}$\")\n",
    "\n",
    "\n",
    "ax.axhline(0, c=\"k\")\n",
    "ax.legend()"
   ]
  },
  {
   "cell_type": "code",
   "execution_count": null,
   "metadata": {},
   "outputs": [
    {
     "data": {
      "text/plain": [
       "Text(0.5, 0, 't')"
      ]
     },
     "execution_count": 74,
     "metadata": {},
     "output_type": "execute_result"
    },
    {
     "data": {
      "image/png": "[encoded data removed]",
      "text/plain": [
       "<Figure size 800x600 with 1 Axes>"
      ]
     },
     "metadata": {},
     "output_type": "display_data"
    }
   ],
   "source": [
    "fig, ax = plt.subplots(1, 1, figsize=(8, 6))\n",
    "\n",
    "for _N in range(1, 3):\n",
    "    u = sp.symbols([f\"u{i}\" for i in range(0, _N)])\n",
    "    e = sp.symbols([f\"e{i}\" for i in range(1, _N+1)])\n",
    "    α = sp.symbols([f\"α{i}\" for i in range(1, _N+1)])\n",
    "    _α = sp.symbols(\"α\")\n",
    "\n",
    "\n",
    "    state = {\"u\": u, \"α\": α, \"e\": e}\n",
    "    _matpar = {N: _N, γ: 2, E0: 1, w1: 1, L: 1}\n",
    "    matpar = {\"N\": N, \"γ\": γ, \"E0\": E0, \"w1\": w1, \"L\": L}\n",
    "    _loads = np.linspace(0., float(γ.subs(_matpar)), 30)\n",
    "\n",
    "    atls = SymbolicDiscreteDamage(state, matpar)\n",
    "\n",
    "    system = ModelAnalysis(atls)\n",
    "\n",
    "    subs_homog_α, subs_homog_e =  system._state_homog_substitutions(state)\n",
    "    alpha = system.homogeneous_damage(state, _matpar)\n",
    "\n",
    "    _en = system.energy_fc_alpha().subs(subs_homog_α)    \\\n",
    "                .subs(_matpar) \\\n",
    "                .replace(_a, system.model.a) \\\n",
    "                .replace(sp.Function('s'), atls.s)      \\\n",
    "                .replace(_w, system.model.w)  \\\n",
    "                .subs(_matpar)          \\\n",
    "        .subs({sp.symbols('α_t'): alpha})\n",
    "\n",
    "    _energy_damage = system.model._damage(state).subs(subs_homog_α).subs(_matpar) \\\n",
    "                .replace(_w, system.model.w)  \\\n",
    "                .subs({sp.symbols('α_t'): alpha})\n",
    "\n",
    "    _f = sp.lambdify(t, _en.subs(_matpar), 'numpy')\n",
    "    _f1 = sp.lambdify(t, _energy_damage, 'numpy')\n",
    "    ax.plot(_loads, _f(_loads), label=f'N = {_N}, total', lw=3, c=f'C{_N}')\n",
    "    ax.plot(_loads, _f1(_loads), c=f'C{_N}', label=f'N = {_N}, damage', ls='--')\n",
    "    ax.plot(_loads, _f(_loads)-_f1(_loads), c=f'C{_N}', label=f'N = {_N}, elastic', ls=\":\")\n",
    "\n",
    "ax.legend()\n",
    "ax.set_ylabel('Energy')\n",
    "ax.set_xlabel('t')"
   ]
  },
  {
   "cell_type": "markdown",
   "metadata": {},
   "source": [
    "### Plots of homogeneous response"
   ]
  },
  {
   "cell_type": "code",
   "execution_count": null,
   "metadata": {},
   "outputs": [
    {
     "data": {
      "text/plain": [
       "({α1: α_t, α2: α_t}, {e1: e_t, e2: e_t})"
      ]
     },
     "execution_count": 75,
     "metadata": {},
     "output_type": "execute_result"
    }
   ],
   "source": [
    "subs_homog_α, subs_homog_e =  system._state_homog_substitutions(state)\n",
    "\n",
    "# Substitutions to compute homogeneous solutions\n",
    "subs_homog_α, subs_homog_e"
   ]
  },
  {
   "cell_type": "code",
   "execution_count": null,
   "metadata": {},
   "outputs": [
    {
     "data": {
      "text/latex": [
       "$\\displaystyle 0.707106781186548 \\sqrt{2} t - 1.0$"
      ],
      "text/plain": [
       "0.707106781186548*sqrt(2)*t - 1.0"
      ]
     },
     "execution_count": 76,
     "metadata": {},
     "output_type": "execute_result"
    }
   ],
   "source": [
    "evos = [evo.subs(_matpar) for evo in system.homogeneous_α(_matpar)]\n",
    "evos[idx].subs(_matpar)"
   ]
  },
  {
   "cell_type": "code",
   "execution_count": null,
   "metadata": {},
   "outputs": [
    {
     "data": {
      "text/plain": [
       "<matplotlib.lines.Line2D at 0x13418e750>"
      ]
     },
     "execution_count": 77,
     "metadata": {},
     "output_type": "execute_result"
    },
    {
     "data": {
      "image/png": "[encoded data removed]",
      "text/plain": [
       "<Figure size 640x480 with 1 Axes>"
      ]
     },
     "metadata": {},
     "output_type": "display_data"
    }
   ],
   "source": [
    "evos = [evo.subs(_matpar) for evo in system.homogeneous_α(_matpar)]\n",
    "_loads = np.linspace(0., float(γ.subs(_matpar)), 30)\n",
    "evo_x = evos[idx].subs(_matpar)\n",
    "\n",
    "for alphas in evos:\n",
    "    _f = sp.lambdify(t, alphas.subs(_matpar), 'numpy')\n",
    "    plt.plot(_loads, _f(_loads), c='k')\n",
    "\n",
    "_f = sp.lambdify(t, evo_x, 'numpy')\n",
    "plt.plot(_loads, _f(_loads), c='k', lw=3)\n",
    "\n",
    "\n",
    "plt.axhline(0, c='k')"
   ]
  },
  {
   "cell_type": "code",
   "execution_count": null,
   "metadata": {},
   "outputs": [
    {
     "data": {
      "text/plain": [
       "<matplotlib.lines.Line2D at 0x12700acf0>"
      ]
     },
     "execution_count": 78,
     "metadata": {},
     "output_type": "execute_result"
    },
    {
     "data": {
      "image/png": "[encoded data removed]",
      "text/plain": [
       "<Figure size 640x480 with 1 Axes>"
      ]
     },
     "metadata": {},
     "output_type": "display_data"
    }
   ],
   "source": [
    "alpha = system.homogeneous_damage(state, _matpar)\n",
    "\n",
    "_f = sp.lambdify(t, alpha.subs(_matpar), 'numpy')\n",
    "plt.plot(_loads, _f(_loads), c='k', lw=3)\n",
    "\n",
    "plt.axhline(0, c='k')"
   ]
  },
  {
   "cell_type": "code",
   "execution_count": null,
   "metadata": {},
   "outputs": [
    {
     "data": {
      "text/latex": [
       "$\\displaystyle \\frac{0.25 \\cdot \\left(1 - α_{t}\\right) \\left(2.0 t^{2} + \\frac{4.0 α_{t} \\left(α_{t} + 1\\right)}{1 - α_{t}}\\right)}{α_{t} + 1}$"
      ],
      "text/plain": [
       "0.25*(1 - α_t)*(2.0*t**2 + 4.0*α_t*(α_t + 1)/(1 - α_t))/(α_t + 1)"
      ]
     },
     "execution_count": 79,
     "metadata": {},
     "output_type": "execute_result"
    }
   ],
   "source": [
    "_en = system.energy_fc_alpha().subs(subs_homog_α)    \\\n",
    "            .subs(_matpar) \\\n",
    "            .replace(_a, system.model.a) \\\n",
    "            .replace(sp.Function('s'), atls.s)      \\\n",
    "            .replace(_w, system.model.w)  \\\n",
    "            .subs(_matpar)\n",
    "_en"
   ]
  },
  {
   "cell_type": "code",
   "execution_count": null,
   "metadata": {},
   "outputs": [
    {
     "data": {
      "text/plain": [
       "Text(0.5, 0, 't')"
      ]
     },
     "execution_count": 80,
     "metadata": {},
     "output_type": "execute_result"
    },
    {
     "data": {
      "image/png": "[encoded data removed]",
      "text/plain": [
       "<Figure size 640x480 with 1 Axes>"
      ]
     },
     "metadata": {},
     "output_type": "display_data"
    }
   ],
   "source": [
    "_en = system.energy_fc_alpha().subs(subs_homog_α)    \\\n",
    "            .subs(_matpar) \\\n",
    "            .replace(_a, system.model.a) \\\n",
    "            .replace(sp.Function('s'), atls.s)      \\\n",
    "            .replace(_w, system.model.w)  \\\n",
    "            .subs(_matpar)          \\\n",
    "    .subs({sp.symbols('α_t'): alpha})\n",
    "\n",
    "_energy_damage = system.model._damage(state).subs(subs_homog_α).subs(_matpar) \\\n",
    "            .replace(_w, system.model.w)  \\\n",
    "            .subs({sp.symbols('α_t'): alpha})\n",
    "\n",
    "_f = sp.lambdify(t, _en.subs(_matpar), 'numpy')\n",
    "_f1 = sp.lambdify(t, _energy_damage, 'numpy')\n",
    "plt.plot(_loads, _f(_loads), c='k', label='total', lw=3)\n",
    "plt.plot(_loads, _f1(_loads), c='k', label='damage')\n",
    "plt.plot(_loads, _f(_loads)-_f1(_loads), c='k', label='elastic')\n",
    "\n",
    "plt.legend()\n",
    "plt.ylabel('Energy')\n",
    "plt.xlabel('t')"
   ]
  },
  {
   "cell_type": "markdown",
   "metadata": {},
   "source": [
    "### Bifurcations\n",
    "\n",
    "Compute bifurcated solutions with $m$ damaging springs out of the available $N$, with $m<N$"
   ]
  },
  {
   "cell_type": "code",
   "execution_count": null,
   "metadata": {},
   "outputs": [
    {
     "data": {
      "text/latex": [
       "$\\displaystyle 0.111111111111111 t^{2} \\left. \\frac{d}{d β} a{\\left(β \\right)} \\right|_{\\substack{ β=0 }} + \\frac{2 \\left. \\frac{d}{d β} w{\\left(β \\right)} \\right|_{\\substack{ β=0 }}}{9}$"
      ],
      "text/plain": [
       "0.111111111111111*t**2*Subs(Derivative(a(β), β), β, 0) + 2*Subs(Derivative(w(β), β), β, 0)/9"
      ]
     },
     "execution_count": 122,
     "metadata": {},
     "output_type": "execute_result"
    }
   ],
   "source": [
    "_N = 3\n",
    "_matpar = {N: _N, γ: 2, E0: 1, w1: 1, L: 1}\n",
    "\n",
    "\n",
    "atls = SymbolicDiscreteDamage(state, matpar)\n",
    "\n",
    "\n",
    "system = ModelAnalysis(atls)\n",
    "system.criterion().subs(_matpar)"
   ]
  },
  {
   "cell_type": "code",
   "execution_count": null,
   "metadata": {},
   "outputs": [
    {
     "data": {
      "text/plain": [
       "3"
      ]
     },
     "execution_count": 123,
     "metadata": {},
     "output_type": "execute_result"
    }
   ],
   "source": [
    "_matpar[N]"
   ]
  },
  {
   "cell_type": "code",
   "execution_count": null,
   "metadata": {},
   "outputs": [],
   "source": [
    "# we bifurcate m springs\n",
    "\n",
    "m = 1\n",
    "\n",
    "assert m < _matpar[N]"
   ]
  },
  {
   "cell_type": "code",
   "execution_count": null,
   "metadata": {},
   "outputs": [
    {
     "name": "stdout",
     "output_type": "stream",
     "text": [
      "set of bifurcated (evolving) springs [α2]\n",
      "set of stationary springs {α1}\n"
     ]
    }
   ],
   "source": [
    "bif_α, homo_α, bif_e, homo_e = system._state_split(m, state, _matpar)\n",
    "print(f'set of bifurcated (evolving) springs {bif_α}')\n",
    "print(f'set of stationary springs {homo_α}')"
   ]
  },
  {
   "cell_type": "code",
   "execution_count": null,
   "metadata": {},
   "outputs": [],
   "source": [
    "subs_bif_α, subs_bif_e =  system._state_bifurcation_substitutions(m, state, _matpar)"
   ]
  },
  {
   "cell_type": "code",
   "execution_count": null,
   "metadata": {},
   "outputs": [
    {
     "data": {
      "text/plain": [
       "({α2: α_t, α1: α^*}, {e2: e_t, e1: e^*})"
      ]
     },
     "execution_count": 119,
     "metadata": {},
     "output_type": "execute_result"
    }
   ],
   "source": [
    "# substitutions for damage and strain\n",
    "subs_bif_α, subs_bif_e"
   ]
  },
  {
   "cell_type": "code",
   "execution_count": null,
   "metadata": {},
   "outputs": [
    {
     "data": {
      "text/latex": [
       "$\\displaystyle \\frac{0.5 E_{0} N t^{2}}{L^{2} \\left(s{\\left(α_{1} \\right)} + s{\\left(α_{2} \\right)}\\right)}$"
      ],
      "text/plain": [
       "0.5*E0*N*t**2/(L**2*(s(α1) + s(α2)))"
      ]
     },
     "execution_count": 89,
     "metadata": {},
     "output_type": "execute_result"
    }
   ],
   "source": [
    "system._elastic_energy_fc_alpha()"
   ]
  },
  {
   "cell_type": "code",
   "execution_count": null,
   "metadata": {},
   "outputs": [
    {
     "data": {
      "text/latex": [
       "$\\displaystyle \\frac{0.5 E_{0} N t^{2}}{L^{2} \\left(s{\\left(α^{*} \\right)} + s{\\left(α_{t} \\right)}\\right)}$"
      ],
      "text/plain": [
       "0.5*E0*N*t**2/(L**2*(s(α^*) + s(α_t)))"
      ]
     },
     "execution_count": 90,
     "metadata": {},
     "output_type": "execute_result"
    }
   ],
   "source": [
    "_elastic_en_bif_alpha = system._elastic_energy_fc_alpha().subs(subs_bif_α)\n",
    "_elastic_en_bif_alpha"
   ]
  },
  {
   "cell_type": "code",
   "execution_count": null,
   "metadata": {},
   "outputs": [
    {
     "data": {
      "text/latex": [
       "$\\displaystyle - \\frac{0.5 E_{0} N^{2} t^{2} \\frac{d}{d α_{t}} s{\\left(α_{t} \\right)}}{L^{2} \\left(2 s{\\left(0 \\right)} + s{\\left(α_{t} \\right)}\\right)^{2}}$"
      ],
      "text/plain": [
       "-0.5*E0*N**2*t**2*Derivative(s(α_t), α_t)/(L**2*(2*s(0) + s(α_t))**2)"
      ]
     },
     "execution_count": 344,
     "metadata": {},
     "output_type": "execute_result"
    }
   ],
   "source": [
    "sp.diff(_elastic_en_bif_alpha.subs({sp.symbols('α^*'): 0}), sp.symbols('α_t'))"
   ]
  },
  {
   "cell_type": "code",
   "execution_count": null,
   "metadata": {},
   "outputs": [
    {
     "data": {
      "text/latex": [
       "$\\displaystyle - \\frac{0.5 E_{0} N^{2} m t^{2} \\frac{d}{d α_{t}} s{\\left(α_{t} \\right)}}{L^{2} \\left(m s{\\left(α_{t} \\right)} + \\left(N - m\\right) s{\\left(α^{*} \\right)}\\right)^{2}}$"
      ],
      "text/plain": [
       "-0.5*E0*N**2*m*t**2*Derivative(s(α_t), α_t)/(L**2*(m*s(α_t) + (N - m)*s(α^*))**2)"
      ]
     },
     "execution_count": 91,
     "metadata": {},
     "output_type": "execute_result"
    }
   ],
   "source": [
    "def _elastic_energy_m_bifurcations(m, state):\n",
    "    n = len(state[\"α\"])\n",
    "    # n = N\n",
    "    N = sp.symbols('N')\n",
    "    # _s = model.model.s\n",
    "    _s = sp.Function('s')\n",
    "    \n",
    "    at = sp.symbols('α_t')\n",
    "    ax = sp.symbols('α^*')\n",
    "    return 1./2. * E0 * (N * t / L)**2 * 1 / ((N-m)*_s(ax) + m*_s(at))\n",
    "    \n",
    "\n",
    "def _diff_energy_m_bifurcations(m, state):\n",
    "    n = len(state[\"α\"])\n",
    "    n = N\n",
    "    # _s = model.model.s\n",
    "    _s = sp.Function('s')\n",
    "    \n",
    "    at = sp.symbols('α_t')\n",
    "    ax = sp.symbols('α^*')\n",
    "    return - 1./2. * E0 * (N * t / L)**2 * m * sp.diff(_s(at), at) / ((n-m)*_s(ax) + m*_s(at))**2\n",
    "    \n",
    "    \n",
    "def energy_m_bifurcations(m, state):\n",
    "    n = len(state[\"α\"])\n",
    "    at = sp.symbols('α_t')\n",
    "    ax = sp.symbols('α^*')\n",
    "    \n",
    "    return _elastic_energy_m_bifurcations(m, state) +   \\\n",
    "        model.matpar[\"w1\"] * (m * model.model.w(at) + (n-m) * model.model.w(ax))\n",
    "    \n",
    "_diff_energy_m_bifurcations(sp.symbols('m'), state)"
   ]
  },
  {
   "cell_type": "code",
   "execution_count": null,
   "metadata": {},
   "outputs": [
    {
     "data": {
      "text/latex": [
       "$\\displaystyle \\frac{0.5 E_{0} N^{2} t^{2}}{L^{2} \\left(m s{\\left(α_{t} \\right)} + \\left(N - m\\right) s{\\left(α^{*} \\right)}\\right)} + w_{1} \\left(m α_{t} + α^{*} \\left(2 - m\\right)\\right)$"
      ],
      "text/plain": [
       "0.5*E0*N**2*t**2/(L**2*(m*s(α_t) + (N - m)*s(α^*))) + w1*(m*α_t + α^**(2 - m))"
      ]
     },
     "execution_count": 92,
     "metadata": {},
     "output_type": "execute_result"
    }
   ],
   "source": [
    "energy_m_bifurcations(sp.symbols('m'), state)"
   ]
  },
  {
   "cell_type": "code",
   "execution_count": null,
   "metadata": {},
   "outputs": [
    {
     "data": {
      "text/latex": [
       "$\\displaystyle \\frac{0.5 E_{0} N^{2} t^{2}}{L^{2} \\left(m s{\\left(α_{t} \\right)} + \\left(N - m\\right) s{\\left(α^{*} \\right)}\\right)}$"
      ],
      "text/plain": [
       "0.5*E0*N**2*t**2/(L**2*(m*s(α_t) + (N - m)*s(α^*)))"
      ]
     },
     "execution_count": 93,
     "metadata": {},
     "output_type": "execute_result"
    }
   ],
   "source": [
    "_elastic_energy_m_bifurcations(sp.symbols('m'), state)\n"
   ]
  },
  {
   "cell_type": "code",
   "execution_count": null,
   "metadata": {},
   "outputs": [
    {
     "data": {
      "text/latex": [
       "$\\displaystyle - \\frac{0.5 E_{0} N^{2} m t^{2} \\frac{d}{d α_{t}} s{\\left(α_{t} \\right)}}{L^{2} \\left(m s{\\left(α_{t} \\right)} + \\left(N - m\\right) s{\\left(α^{*} \\right)}\\right)^{2}}$"
      ],
      "text/plain": [
       "-0.5*E0*N**2*m*t**2*Derivative(s(α_t), α_t)/(L**2*(m*s(α_t) + (N - m)*s(α^*))**2)"
      ]
     },
     "execution_count": 94,
     "metadata": {},
     "output_type": "execute_result"
    }
   ],
   "source": [
    "sp.diff(_elastic_energy_m_bifurcations(sp.symbols('m'), state), sp.symbols('α_t'))\n"
   ]
  },
  {
   "cell_type": "code",
   "execution_count": null,
   "metadata": {},
   "outputs": [
    {
     "data": {
      "text/latex": [
       "$\\displaystyle - \\frac{0.5 E_{0} N^{2} m t^{2} \\frac{d}{d α_{t}} s{\\left(α_{t} \\right)}}{L^{2} \\left(m s{\\left(α_{t} \\right)} + \\left(N - m\\right) s{\\left(α^{*} \\right)}\\right)^{2}} + m w_{1}$"
      ],
      "text/plain": [
       "-0.5*E0*N**2*m*t**2*Derivative(s(α_t), α_t)/(L**2*(m*s(α_t) + (N - m)*s(α^*))**2) + m*w1"
      ]
     },
     "execution_count": 95,
     "metadata": {},
     "output_type": "execute_result"
    }
   ],
   "source": [
    "sp.diff(energy_m_bifurcations(sp.symbols('m'), state), sp.symbols('α_t'))"
   ]
  },
  {
   "cell_type": "code",
   "execution_count": null,
   "metadata": {},
   "outputs": [
    {
     "data": {
      "text/latex": [
       "$\\displaystyle - \\frac{0.5 E_{0} N^{2} m t^{2} \\frac{d}{d α_{t}} s{\\left(α_{t} \\right)}}{L^{2} \\left(m s{\\left(α_{t} \\right)} + \\left(N - m\\right) s{\\left(0 \\right)}\\right)^{2}} + m w_{1}$"
      ],
      "text/plain": [
       "-0.5*E0*N**2*m*t**2*Derivative(s(α_t), α_t)/(L**2*(m*s(α_t) + (N - m)*s(0))**2) + m*w1"
      ]
     },
     "execution_count": 96,
     "metadata": {},
     "output_type": "execute_result"
    }
   ],
   "source": [
    "sp.diff(energy_m_bifurcations(sp.symbols('m'), state).subs({sp.symbols('α^*'): 0}), sp.symbols('α_t'))"
   ]
  },
  {
   "cell_type": "code",
   "execution_count": null,
   "metadata": {},
   "outputs": [
    {
     "data": {
      "text/latex": [
       "$\\displaystyle - \\frac{0.5 E_{0} N^{2} m t^{2} \\left(α_{t} - 1\\right)^{2} \\cdot \\left(\\frac{1.0 α_{t} γ}{\\left(α_{t} - 1\\right)^{2}} - \\frac{1.0 α_{t}}{\\left(α_{t} - 1\\right)^{2}} - \\frac{1.0 γ}{α_{t} - 1} + \\frac{1.0}{α_{t} - 1} + \\frac{1.0}{\\left(α_{t} - 1\\right)^{2}}\\right)}{L^{2} \\left(- N α_{t} + N + m α_{t} γ\\right)^{2}} + 1.0 m w_{1}$"
      ],
      "text/plain": [
       "-0.5*E0*N**2*m*t**2*(α_t - 1)**2*(1.0*α_t*γ/(α_t - 1)**2 - 1.0*α_t/(α_t - 1)**2 - 1.0*γ/(α_t - 1) + 1.0/(α_t - 1) + 1.0/(α_t - 1)**2)/(L**2*(-N*α_t + N + m*α_t*γ)**2) + 1.0*m*w1"
      ]
     },
     "execution_count": 98,
     "metadata": {},
     "output_type": "execute_result"
    }
   ],
   "source": [
    "bif_crit_m = sp.diff(\n",
    "    energy_m_bifurcations(sp.symbols('m'), state).subs({sp.symbols('α^*'): 0}) \\\n",
    "    , sp.symbols('α_t'))    \\\n",
    "        .replace(sp.Function('s'), atls.s)      \\\n",
    "        .replace(_w, system.model.w)         \\\n",
    "        .simplify()\n",
    "\n",
    "bif_crit_m"
   ]
  },
  {
   "cell_type": "code",
   "execution_count": null,
   "metadata": {},
   "outputs": [
    {
     "data": {
      "text/latex": [
       "$\\displaystyle \\frac{0.5 N \\left(2.0 L w_{1} - 1.4142135623731 t \\sqrt{E_{0} w_{1} γ}\\right)}{L w_{1} \\left(N - m γ\\right)}$"
      ],
      "text/plain": [
       "0.5*N*(2.0*L*w1 - 1.4142135623731*t*sqrt(E0*w1*γ))/(L*w1*(N - m*γ))"
      ]
     },
     "execution_count": 99,
     "metadata": {},
     "output_type": "execute_result"
    }
   ],
   "source": [
    "sp.solve(bif_crit_m, sp.symbols('α_t'))[1].simplify()"
   ]
  },
  {
   "cell_type": "code",
   "execution_count": null,
   "metadata": {},
   "outputs": [
    {
     "data": {
      "text/latex": [
       "$\\displaystyle - \\frac{0.5 E_{0} N^{2} m t^{2} γ}{L^{2} \\left(- N α_{t} + N + m α_{t} γ\\right)^{2}} + 1.0 m w_{1}$"
      ],
      "text/plain": [
       "-0.5*E0*N**2*m*t**2*γ/(L**2*(-N*α_t + N + m*α_t*γ)**2) + 1.0*m*w1"
      ]
     },
     "execution_count": 100,
     "metadata": {},
     "output_type": "execute_result"
    }
   ],
   "source": [
    "bif_crit_m.simplify()"
   ]
  },
  {
   "cell_type": "code",
   "execution_count": null,
   "metadata": {},
   "outputs": [
    {
     "data": {
      "text/plain": [
       "'- \\\\frac{0.5 E_{0} N^{2} m t^{2} γ}{L^{2} \\\\left(- N α_{t} + N + m α_{t} γ\\\\right)^{2}} + 1.0 m w_{1}'"
      ]
     },
     "execution_count": 437,
     "metadata": {},
     "output_type": "execute_result"
    }
   ],
   "source": [
    "sp.latex(bif_crit_m.simplify())"
   ]
  },
  {
   "cell_type": "code",
   "execution_count": null,
   "metadata": {},
   "outputs": [
    {
     "data": {
      "text/latex": [
       "$\\displaystyle - \\frac{0.5 E_{0} N^{2} m t^{2} γ}{L^{2} \\left(- N α_{t} + N + m α_{t} γ\\right)^{2}} + 1.0 m w_{1}$"
      ],
      "text/plain": [
       "-0.5*E0*N**2*m*t**2*γ/(L**2*(-N*α_t + N + m*α_t*γ)**2) + 1.0*m*w1"
      ]
     },
     "execution_count": 101,
     "metadata": {},
     "output_type": "execute_result"
    }
   ],
   "source": [
    "bif_crit_m.simplify()"
   ]
  },
  {
   "cell_type": "code",
   "execution_count": null,
   "metadata": {},
   "outputs": [
    {
     "data": {
      "text/latex": [
       "$\\displaystyle - \\frac{0.5 E_{0} N^{2} m t^{2} γ}{L^{2} \\left(- N α_{t} + N + m α_{t} γ\\right)^{2}}$"
      ],
      "text/plain": [
       "-0.5*E0*N**2*m*t**2*γ/(L**2*(-N*α_t + N + m*α_t*γ)**2)"
      ]
     },
     "execution_count": 102,
     "metadata": {},
     "output_type": "execute_result"
    }
   ],
   "source": [
    "bif_crit_m.args[1].simplify()"
   ]
  },
  {
   "cell_type": "code",
   "execution_count": null,
   "metadata": {},
   "outputs": [],
   "source": [
    "num, den = sp.fraction(bif_crit_m.args[1].simplify())"
   ]
  },
  {
   "cell_type": "code",
   "execution_count": null,
   "metadata": {},
   "outputs": [
    {
     "data": {
      "text/latex": [
       "$\\displaystyle L^{2} \\left(N + α_{t} \\left(- N + m γ\\right)\\right)^{2}$"
      ],
      "text/plain": [
       "L**2*(N + α_t*(-N + m*γ))**2"
      ]
     },
     "execution_count": 104,
     "metadata": {},
     "output_type": "execute_result"
    }
   ],
   "source": [
    "den.factor(sp.symbols('α_t')) "
   ]
  },
  {
   "cell_type": "code",
   "execution_count": null,
   "metadata": {},
   "outputs": [
    {
     "data": {
      "text/plain": [
       "'L^{2} \\\\left(N + α_{t} \\\\left(- N + m γ\\\\right)\\\\right)^{2}'"
      ]
     },
     "execution_count": 451,
     "metadata": {},
     "output_type": "execute_result"
    }
   ],
   "source": [
    "sp.latex(den.factor(sp.symbols('α_t')) )"
   ]
  },
  {
   "cell_type": "code",
   "execution_count": null,
   "metadata": {},
   "outputs": [
    {
     "data": {
      "text/latex": [
       "$\\displaystyle \\frac{1.0 \\left(- 1.4142135623731 \\sqrt{2} t + 2.0\\right)}{2 - 2 m}$"
      ],
      "text/plain": [
       "1.0*(-1.4142135623731*sqrt(2)*t + 2.0)/(2 - 2*m)"
      ]
     },
     "execution_count": 105,
     "metadata": {},
     "output_type": "execute_result"
    }
   ],
   "source": [
    "# sp.latex(\n",
    "sp.solve(bif_crit_m, sp.symbols('α_t'))[1].simplify().subs(_matpar)\n",
    "# )"
   ]
  },
  {
   "cell_type": "code",
   "execution_count": null,
   "metadata": {},
   "outputs": [
    {
     "data": {
      "text/latex": [
       "$\\displaystyle - \\frac{0.5 m t^{2} \\left(α_{t} - 1\\right)^{2} \\cdot \\left(\\frac{1.0 α_{t}}{\\left(α_{t} - 1\\right)^{2}} - \\frac{1.0}{α_{t} - 1} + \\frac{1.0}{\\left(α_{t} - 1\\right)^{2}}\\right)}{\\left(1.0 m α_{t} - α_{t} + 1\\right)^{2}} + m$"
      ],
      "text/plain": [
       "-0.5*m*t**2*(α_t - 1)**2*(1.0*α_t/(α_t - 1)**2 - 1.0/(α_t - 1) + 1.0/(α_t - 1)**2)/(1.0*m*α_t - α_t + 1)**2 + m"
      ]
     },
     "execution_count": 107,
     "metadata": {},
     "output_type": "execute_result"
    }
   ],
   "source": [
    "bif_crit_m = sp.diff(\n",
    "    energy_m_bifurcations(sp.symbols('m'), state).subs({sp.symbols('α^*'): 0}) \\\n",
    "    , sp.symbols('α_t'))    \\\n",
    "        .replace(sp.Function('s'), atls.s)      \\\n",
    "        .replace(_w, system.model.w)         \\\n",
    "        .subs(_matpar).simplify()\n",
    "\n",
    "bif_crit_m"
   ]
  },
  {
   "cell_type": "code",
   "execution_count": null,
   "metadata": {},
   "outputs": [
    {
     "data": {
      "text/plain": [
       "[(-t - 1.0)/(m - 1.0), (t - 1.0)/(m - 1.0)]"
      ]
     },
     "execution_count": 109,
     "metadata": {},
     "output_type": "execute_result"
    }
   ],
   "source": [
    "bif_m_solutions = sp.solve(bif_crit_m, sp.symbols('α_t'))\n",
    "# bif_m_solutions[1]\n",
    "\n",
    "bif_m_solutions"
   ]
  },
  {
   "cell_type": "code",
   "execution_count": null,
   "metadata": {},
   "outputs": [
    {
     "data": {
      "text/latex": [
       "$\\displaystyle \\tilde{\\infty} \\left(t - 1.0\\right)$"
      ],
      "text/plain": [
       "zoo*(t - 1.0)"
      ]
     },
     "execution_count": 110,
     "metadata": {},
     "output_type": "execute_result"
    }
   ],
   "source": [
    "(bif_m_solutions[1]).subs(sp.symbols('m'), 1)"
   ]
  },
  {
   "cell_type": "code",
   "execution_count": null,
   "metadata": {},
   "outputs": [
    {
     "data": {
      "text/plain": [
       "<matplotlib.lines.Line2D at 0x10df87790>"
      ]
     },
     "execution_count": 400,
     "metadata": {},
     "output_type": "execute_result"
    },
    {
     "data": {
      "image/png": "[encoded data removed]",
      "text/plain": [
       "<Figure size 640x480 with 1 Axes>"
      ]
     },
     "metadata": {},
     "output_type": "display_data"
    }
   ],
   "source": [
    "bif = bif_m_solutions[0].subs(sp.symbols('m'), 1)\n",
    "_loads = np.linspace(0., float(γ.subs(_matpar)), 30)\n",
    "\n",
    "_f = sp.lambdify(t, bif.subs(_matpar), 'numpy')\n",
    "plt.plot(_loads, _f(_loads), c='k', lw=3)\n",
    "\n",
    "plt.axhline(0, c='k')"
   ]
  },
  {
   "cell_type": "code",
   "execution_count": null,
   "metadata": {},
   "outputs": [
    {
     "name": "stdout",
     "output_type": "stream",
     "text": [
      "1.5*(1.4142135623731*sqrt(2)*t + 2.0)/(3 - 2*m)\n",
      "1.5*(-1.4142135623731*sqrt(2)*t + 2.0)/(3 - 2*m)\n",
      "1.5*(1.4142135623731*sqrt(2)*t + 2.0)/(3 - 2*m)\n",
      "1.5*(-1.4142135623731*sqrt(2)*t + 2.0)/(3 - 2*m)\n"
     ]
    },
    {
     "data": {
      "text/plain": [
       "<matplotlib.lines.Line2D at 0x10e54cbd0>"
      ]
     },
     "execution_count": 472,
     "metadata": {},
     "output_type": "execute_result"
    },
    {
     "data": {
      "image/png": "[encoded data removed]",
      "text/plain": [
       "<Figure size 640x480 with 1 Axes>"
      ]
     },
     "metadata": {},
     "output_type": "display_data"
    }
   ],
   "source": [
    "# sp.latex(\n",
    "sols = sp.solve(bif_crit_m, sp.symbols('α_t'))\n",
    "# )\n",
    "# sols\n",
    "\n",
    "for _m in range(1, N.subs(_matpar)):\n",
    "    for sol in sols:\n",
    "        print(sol.simplify().subs(_matpar))\n",
    "        _f = sp.lambdify(t, sol.simplify().subs(_matpar).subs(sp.symbols('m'), _m), 'numpy')\n",
    "        plt.plot(_loads, _f(_loads), c='k', lw=3)\n",
    "        \n",
    "plt.axhline(0, c='k', lw=3)\n",
    "plt.axhline(1, c='k')\n",
    "plt.axvline(1, c='k')\n",
    "plt.axvline((γ/N).subs(_matpar), c='k')\n",
    "\n"
   ]
  },
  {
   "cell_type": "code",
   "execution_count": null,
   "metadata": {},
   "outputs": [],
   "source": []
  },
  {
   "cell_type": "code",
   "execution_count": null,
   "metadata": {},
   "outputs": [
    {
     "data": {
      "text/latex": [
       "$\\displaystyle - \\frac{0.333333333333333 t^{2}}{0.037037037037037 α_{t}^{2} - 0.222222222222222 α_{t} + 0.333333333333333}$"
      ],
      "text/plain": [
       "-0.333333333333333*t**2/(0.037037037037037*α_t**2 - 0.222222222222222*α_t + 0.333333333333333)"
      ]
     },
     "execution_count": 334,
     "metadata": {},
     "output_type": "execute_result"
    }
   ],
   "source": [
    "sp.diff(\n",
    "    _elastic_en_bif_alpha.subs({sp.symbols('α^*'): 0}),\n",
    "    sp.symbols('α_t')).simplify()   \\\n",
    "    .replace(sp.Function('s'), atls.s)      \\\n",
    "    .replace(_w, model.model.w)                 \\\n",
    "        .subs(_matpar).doit().simplify()  "
   ]
  },
  {
   "cell_type": "code",
   "execution_count": null,
   "metadata": {},
   "outputs": [],
   "source": [
    "_bif_criterion_m_ela = sp.diff(\n",
    "    _elastic_en_bif_alpha.subs({sp.symbols('α^*'): 0}),\n",
    "    sp.symbols('α_t')).simplify()               \\\n",
    "    .replace(sp.Function('s'), atls.s)      \\\n",
    "    .replace(_w, model.model.w)                 \\\n",
    "        .subs(_matpar).doit().simplify()  \\\n",
    "    \n",
    "_bif_criterion_m_dam = sp.diff(model.model._damage(state).subs(subs_bif_α).subs({sp.symbols('α^*'): 0})    \\\n",
    "    .replace(_w, model.model.w).doit(), sp.symbols('α_t'))\n"
   ]
  },
  {
   "cell_type": "code",
   "execution_count": null,
   "metadata": {},
   "outputs": [],
   "source": [
    "bif_solutions = sp.solve(_bif_criterion_m_ela + _bif_criterion_m_dam, sp.symbols('α_t'))"
   ]
  },
  {
   "cell_type": "code",
   "execution_count": null,
   "metadata": {},
   "outputs": [],
   "source": [
    "positive_solution_idx = np.where(np.array([sp.diff(b, t).subs(_matpar) for b in bif_solutions]) > 0)[0][0]"
   ]
  },
  {
   "cell_type": "code",
   "execution_count": null,
   "metadata": {},
   "outputs": [
    {
     "data": {
      "text/latex": [
       "$\\displaystyle \\frac{3.0 t}{\\sqrt{w_{1}}} + 3.0$"
      ],
      "text/plain": [
       "3.0*t/sqrt(w1) + 3.0"
      ]
     },
     "execution_count": 187,
     "metadata": {},
     "output_type": "execute_result"
    }
   ],
   "source": [
    "bif_solutions[positive_solution_idx]"
   ]
  },
  {
   "cell_type": "code",
   "execution_count": null,
   "metadata": {},
   "outputs": [
    {
     "data": {
      "text/plain": [
       "<matplotlib.lines.Line2D at 0x1086a8fd0>"
      ]
     },
     "execution_count": 190,
     "metadata": {},
     "output_type": "execute_result"
    },
    {
     "data": {
      "image/png": "[encoded data removed]",
      "text/plain": [
       "<Figure size 640x480 with 1 Axes>"
      ]
     },
     "metadata": {},
     "output_type": "display_data"
    }
   ],
   "source": [
    "bif = bif_solutions[0]\n",
    "_loads = np.linspace(0., float(γ.subs(_matpar)), 30)\n",
    "\n",
    "_f = sp.lambdify(t, bif.subs(_matpar), 'numpy')\n",
    "plt.plot(_loads, _f(_loads), c='k', lw=3)\n",
    "\n",
    "plt.axhline(0, c='k')"
   ]
  },
  {
   "cell_type": "code",
   "execution_count": null,
   "metadata": {},
   "outputs": [
    {
     "data": {
      "text/latex": [
       "$\\displaystyle \\begin{cases} 0.707106781186548 \\sqrt{2} t - 1.0 & \\text{for}\\: t \\geq 0.707106781186548 \\sqrt{2} \\\\0 & \\text{otherwise} \\end{cases}$"
      ],
      "text/plain": [
       "Piecewise((0.707106781186548*sqrt(2)*t - 1.0, t >= 0.707106781186548*sqrt(2)), (0, True))"
      ]
     },
     "execution_count": 339,
     "metadata": {},
     "output_type": "execute_result"
    }
   ],
   "source": [
    "model.model._damage(state).subs(subs_bif_α).subs({sp.symbols('α_t'): 0})   \\\n",
    "            .subs(_matpar) \\\n",
    "            .replace(_w, model.model.w)  \\\n",
    "            .replace(sp.symbols(\"a^*\"), alpha)\n",
    "            # .subs({sp.symbols('β'): alpha})\n"
   ]
  },
  {
   "cell_type": "code",
   "execution_count": null,
   "metadata": {},
   "outputs": [
    {
     "data": {
      "text/plain": [
       "Text(0.5, 0, 't')"
      ]
     },
     "execution_count": 343,
     "metadata": {},
     "output_type": "execute_result"
    },
    {
     "data": {
      "image/png": "[encoded data removed]",
      "text/plain": [
       "<Figure size 432x288 with 1 Axes>"
      ]
     },
     "metadata": {
      "needs_background": "light"
     },
     "output_type": "display_data"
    }
   ],
   "source": [
    "_en_alpha_bif = model.energy_fc_alpha().subs(subs_bif_α).subs({sp.symbols('α_t'): 0})   \\\n",
    "            .replace(_a, model.model.a) \\\n",
    "            .replace(sp.Function('s'), atls.s)      \\\n",
    "            .replace(_w, model.model.w)  \\\n",
    "            .subs(_matpar)          \\\n",
    "            .replace(sp.symbols(\"a^*\"), alpha)\n",
    "\n",
    "_energy_damage_bif = model.model._damage(state).subs(subs_bif_α).subs({sp.symbols('α_t'): 0})   \\\n",
    "            .subs(_matpar) \\\n",
    "            .replace(_w, model.model.w)  \\\n",
    "            .replace(sp.symbols(\"a^*\"), alpha)\n",
    "            # .subs({sp.symbols('β'): alpha})\n",
    "\n",
    "\n",
    "_f = sp.lambdify(t, _en_alpha_bif, 'numpy')\n",
    "_fd = sp.lambdify(t, _energy_damage_bif, 'numpy')\n",
    "plt.plot(_loads, _f(_loads), c='k', label='total', lw=3)\n",
    "plt.plot(_loads, _fd(_loads), c='k', label='damage', lw=3)\n",
    "plt.plot(_loads, _f(_loads) - _fd(_loads), c='k', label='elastic', lw=3)\n",
    "\n",
    "plt.legend()\n",
    "plt.ylabel('Energy')\n",
    "plt.xlabel('t')"
   ]
  },
  {
   "cell_type": "code",
   "execution_count": null,
   "metadata": {},
   "outputs": [
    {
     "ename": "TypeError",
     "evalue": "unsupported operand type(s) for /: 'int' and 'method'",
     "output_type": "error",
     "traceback": [
      "\u001b[0;31m---------------------------------------------------------------------------\u001b[0m",
      "\u001b[0;31mTypeError\u001b[0m                                 Traceback (most recent call last)",
      "\u001b[1;32m/Users/kumiori/Documents/WIP/m4s-MEC647/mec647/playground/nb/discrete_bar-symbolic.ipynb Cell 54\u001b[0m in \u001b[0;36m<cell line: 4>\u001b[0;34m()\u001b[0m\n\u001b[1;32m      <a href='vscode-notebook-cell:/Users/kumiori/Documents/WIP/m4s-MEC647/mec647/playground/nb/discrete_bar-symbolic.ipynb#Y104sZmlsZQ%3D%3D?line=0'>1</a>\u001b[0m \u001b[39m# The energy of the bifurcated system\u001b[39;00m\n\u001b[1;32m      <a href='vscode-notebook-cell:/Users/kumiori/Documents/WIP/m4s-MEC647/mec647/playground/nb/discrete_bar-symbolic.ipynb#Y104sZmlsZQ%3D%3D?line=2'>3</a>\u001b[0m _en_alpha_bifurcations \u001b[39m=\u001b[39m model\u001b[39m.\u001b[39menergy_fc_alpha()\u001b[39m.\u001b[39msubs(subs_bif_α)\u001b[39m.\u001b[39msubs({sp\u001b[39m.\u001b[39msymbols(\u001b[39m'\u001b[39m\u001b[39mα_t\u001b[39m\u001b[39m'\u001b[39m): \u001b[39m0\u001b[39m})\n\u001b[1;32m      <a href='vscode-notebook-cell:/Users/kumiori/Documents/WIP/m4s-MEC647/mec647/playground/nb/discrete_bar-symbolic.ipynb#Y104sZmlsZQ%3D%3D?line=3'>4</a>\u001b[0m _en_alpha_bifurcations  \\\n\u001b[1;32m      <a href='vscode-notebook-cell:/Users/kumiori/Documents/WIP/m4s-MEC647/mec647/playground/nb/discrete_bar-symbolic.ipynb#Y104sZmlsZQ%3D%3D?line=4'>5</a>\u001b[0m             \u001b[39m.\u001b[39mreplace(_a, model\u001b[39m.\u001b[39mmodel\u001b[39m.\u001b[39ma) \\\n\u001b[0;32m----> <a href='vscode-notebook-cell:/Users/kumiori/Documents/WIP/m4s-MEC647/mec647/playground/nb/discrete_bar-symbolic.ipynb#Y104sZmlsZQ%3D%3D?line=5'>6</a>\u001b[0m             \u001b[39m.\u001b[39mreplace(sp\u001b[39m.\u001b[39mFunction(\u001b[39m'\u001b[39m\u001b[39ms\u001b[39m\u001b[39m'\u001b[39m), \u001b[39m1\u001b[39;49m\u001b[39m/\u001b[39;49matls\u001b[39m.\u001b[39;49ma)\n",
      "\u001b[0;31mTypeError\u001b[0m: unsupported operand type(s) for /: 'int' and 'method'"
     ]
    }
   ],
   "source": [
    "# The energy of the bifurcated system\n",
    "\n",
    "_en_alpha_bifurcations = model.energy_fc_alpha().subs(subs_bif_α).subs({sp.symbols('α_t'): 0})\n",
    "_en_alpha_bifurcations  \\\n",
    "            .replace(_a, model.model.a) \\\n",
    "            .replace(sp.Function('s'), atls.s)      \\\n",
    "            # .replace(_w, model.model.w)  \\\n",
    "            # .subs(_matpar)          \\\n",
    "            "
   ]
  },
  {
   "cell_type": "code",
   "execution_count": null,
   "metadata": {},
   "outputs": [
    {
     "data": {
      "text/plain": [
       "{α2: a^*, α1: α_t}"
      ]
     },
     "execution_count": 435,
     "metadata": {},
     "output_type": "execute_result"
    }
   ],
   "source": [
    "subs_bif_α"
   ]
  },
  {
   "cell_type": "code",
   "execution_count": null,
   "metadata": {},
   "outputs": [],
   "source": [
    "# The energy of the bifurcated system\n",
    "\n",
    "_en_alpha_bifurcations = model.energy_fc_alpha().subs(subs_bif_α).subs({sp.symbols('α_t'): 0})\n",
    "_en_alpha_bifurcations  \\\n",
    "            .replace(_a, model.model.a) \\\n",
    "            .replace(sp.Function('s'), atls.s)      \\\n",
    "            # .replace(_w, model.model.w)  \\\n",
    "            # .subs(_matpar)          \\\n",
    "            "
   ]
  },
  {
   "cell_type": "code",
   "execution_count": null,
   "metadata": {},
   "outputs": [
    {
     "data": {
      "text/latex": [
       "$\\displaystyle \\frac{0.5 E_{0} N^{2} t^{2} a{\\left(0 \\right)} s^{2}{\\left(0 \\right)} + 0.5 E_{0} N^{2} t^{2} a{\\left(a^{*} \\right)} s^{2}{\\left(a^{*} \\right)} + L^{2} w_{1} \\left(s{\\left(0 \\right)} + s{\\left(a^{*} \\right)}\\right)^{2} \\left(w{\\left(0 \\right)} + w{\\left(a^{*} \\right)}\\right)}{L^{2} \\left(s{\\left(0 \\right)} + s{\\left(a^{*} \\right)}\\right)^{2}}$"
      ],
      "text/plain": [
       "(0.5*E0*N**2*t**2*a(0)*s(0)**2 + 0.5*E0*N**2*t**2*a(a^*)*s(a^*)**2 + L**2*w1*(s(0) + s(a^*))**2*(w(0) + w(a^*)))/(L**2*(s(0) + s(a^*))**2)"
      ]
     },
     "execution_count": 179,
     "metadata": {},
     "output_type": "execute_result"
    }
   ],
   "source": [
    "sp.simplify(_en_alpha_bifurcations) "
   ]
  },
  {
   "cell_type": "code",
   "execution_count": null,
   "metadata": {},
   "outputs": [
    {
     "data": {
      "text/latex": [
       "$\\displaystyle \\frac{a^{*} \\left(1.0 + \\frac{1.0 \\left(a^{*} + 1\\right)}{1 - a^{*}}\\right)^{2} + 2.0 t^{2} + \\frac{2.0 t^{2} \\left(a^{*} + 1\\right)}{1 - a^{*}}}{\\left(1.0 + \\frac{1.0 \\left(a^{*} + 1\\right)}{1 - a^{*}}\\right)^{2}}$"
      ],
      "text/plain": [
       "(a^**(1.0 + 1.0*(a^* + 1)/(1 - a^*))**2 + 2.0*t**2 + 2.0*t**2*(a^* + 1)/(1 - a^*))/(1.0 + 1.0*(a^* + 1)/(1 - a^*))**2"
      ]
     },
     "execution_count": 180,
     "metadata": {},
     "output_type": "execute_result"
    }
   ],
   "source": [
    "sym_en_alpha_bifurcations = sp.simplify(_en_alpha_bifurcations)      \\\n",
    "            .replace(_a, model.model.a)  \\\n",
    "            .replace(sp.Function('s'), atls.s)      \\\n",
    "            .replace(_w, model.model.w)  \\\n",
    "            .subs(_matpar)          \\\n",
    "            .doit()\n",
    "\n",
    "sym_en_alpha_bifurcations"
   ]
  },
  {
   "cell_type": "code",
   "execution_count": null,
   "metadata": {},
   "outputs": [
    {
     "data": {
      "text/latex": [
       "$\\displaystyle 1.0 + \\frac{1.0 \\left(a^{*} \\left(γ - 1\\right) + 1\\right)}{1 - a^{*}}$"
      ],
      "text/plain": [
       "1.0 + 1.0*(a^**(γ - 1) + 1)/(1 - a^*)"
      ]
     },
     "execution_count": 212,
     "metadata": {},
     "output_type": "execute_result"
    }
   ],
   "source": [
    "sum([model.model._s(αi) for αi in state[\"α\"]])      \\\n",
    "            .replace(sp.Function('s'), atls.s)      \\\n",
    "            .replace(_w, model.model.w)  \\\n",
    "            .subs(subs_bif_α)           \\\n",
    "            .subs({sp.symbols('α_t'): 0})"
   ]
  },
  {
   "cell_type": "code",
   "execution_count": null,
   "metadata": {},
   "outputs": [
    {
     "name": "stderr",
     "output_type": "stream",
     "text": [
      "<lambdifygenerated-46>:2: RuntimeWarning: divide by zero encountered in true_divide\n",
      "  return (1.0 + 1.0*(Dummy_1247 + 1)/(1 - Dummy_1247))**2\n"
     ]
    },
    {
     "data": {
      "text/plain": [
       "(1.0, 30.0)"
      ]
     },
     "execution_count": 222,
     "metadata": {},
     "output_type": "execute_result"
    },
    {
     "data": {
      "image/png": "[encoded data removed]",
      "text/plain": [
       "<Figure size 432x288 with 1 Axes>"
      ]
     },
     "metadata": {
      "needs_background": "light"
     },
     "output_type": "display_data"
    }
   ],
   "source": [
    "_compl_alpha = (sum([model.model._s(αi) for αi in state[\"α\"]])**2)      \\\n",
    "            .replace(sp.Function('s'), atls.s)      \\\n",
    "            .replace(_w, model.model.w)  \\\n",
    "            .subs(subs_bif_α)           \\\n",
    "            .subs({sp.symbols('α_t'): 0})   \\\n",
    "            .subs(_matpar)\n",
    "\n",
    "_f = sp.lambdify(sp.symbols(\"a^*\"), _compl_alpha, 'numpy')\n",
    "_alphas = np.linspace(0., 1., 30)\n",
    "plt.plot(_alphas, _f(_alphas), c='k', label='$S^2$', lw=3)\n",
    "\n",
    "plt.legend()\n",
    "plt.ylabel(f'Compliance')\n",
    "plt.xlabel('$\\\\alpha$')\n",
    "plt.ylim(1, 30)\n",
    "\n"
   ]
  },
  {
   "cell_type": "code",
   "execution_count": null,
   "metadata": {},
   "outputs": [
    {
     "data": {
      "text/plain": [
       "(1.0, 30.0)"
      ]
     },
     "execution_count": 216,
     "metadata": {},
     "output_type": "execute_result"
    },
    {
     "data": {
      "image/png": "[encoded data removed]",
      "text/plain": [
       "<Figure size 432x288 with 1 Axes>"
      ]
     },
     "metadata": {
      "needs_background": "light"
     },
     "output_type": "display_data"
    }
   ],
   "source": [
    "_S2 = sum([model.model._s(αi) for αi in state[\"α\"]])      \\\n",
    "            .replace(sp.Function('s'), atls.s)      \\\n",
    "            .replace(_w, model.model.w)  \\\n",
    "            .subs(subs_bif_α)           \\\n",
    "            .replace(sp.symbols(\"a^*\"), alpha) \\\n",
    "            .subs({sp.symbols('α_t'): 0})\n",
    "\n",
    "_f = sp.lambdify(t, _S2.subs(_matpar), 'numpy')\n",
    "plt.plot(_loads, _f(_loads), c='k', label='S', lw=3)\n",
    "\n",
    "plt.legend()\n",
    "plt.ylabel(f'Compliance')\n",
    "plt.xlabel('t')\n",
    "plt.ylim(1, 30)"
   ]
  },
  {
   "cell_type": "code",
   "execution_count": null,
   "metadata": {},
   "outputs": [
    {
     "data": {
      "text/latex": [
       "$\\displaystyle \\frac{2.0 t^{2} a{\\left(0 \\right)} s^{2}{\\left(0 \\right)}}{\\left(s{\\left(0 \\right)} + s{\\left(a^{*} \\right)}\\right)^{2}} + \\frac{2.0 t^{2} a{\\left(a^{*} \\right)} s^{2}{\\left(a^{*} \\right)}}{\\left(s{\\left(0 \\right)} + s{\\left(a^{*} \\right)}\\right)^{2}} + w{\\left(0 \\right)} + w{\\left(a^{*} \\right)}$"
      ],
      "text/plain": [
       "2.0*t**2*a(0)*s(0)**2/(s(0) + s(a^*))**2 + 2.0*t**2*a(a^*)*s(a^*)**2/(s(0) + s(a^*))**2 + w(0) + w(a^*)"
      ]
     },
     "execution_count": 227,
     "metadata": {},
     "output_type": "execute_result"
    }
   ],
   "source": [
    "(model.energy_fc_alpha().subs(subs_bif_α).subs({sp.symbols('α_t'): 0})).subs(_matpar)"
   ]
  },
  {
   "cell_type": "code",
   "execution_count": null,
   "metadata": {},
   "outputs": [],
   "source": []
  },
  {
   "cell_type": "markdown",
   "metadata": {},
   "source": [
    "## Second variation"
   ]
  },
  {
   "cell_type": "code",
   "execution_count": null,
   "metadata": {},
   "outputs": [
    {
     "data": {
      "text/latex": [
       "$\\displaystyle \\frac{0.5 E_{0} N^{2} t^{2} a{\\left(α_{1} \\right)} s^{2}{\\left(α_{1} \\right)}}{L^{2} \\left(s{\\left(α_{1} \\right)} + s{\\left(α_{2} \\right)}\\right)^{2}} + \\frac{0.5 E_{0} N^{2} t^{2} a{\\left(α_{2} \\right)} s^{2}{\\left(α_{2} \\right)}}{L^{2} \\left(s{\\left(α_{1} \\right)} + s{\\left(α_{2} \\right)}\\right)^{2}} + w_{1} w{\\left(α_{1} \\right)} + w_{1} w{\\left(α_{2} \\right)}$"
      ],
      "text/plain": [
       "0.5*E0*N**2*t**2*a(α1)*s(α1)**2/(L**2*(s(α1) + s(α2))**2) + 0.5*E0*N**2*t**2*a(α2)*s(α2)**2/(L**2*(s(α1) + s(α2))**2) + w1*w(α1) + w1*w(α2)"
      ]
     },
     "execution_count": 358,
     "metadata": {},
     "output_type": "execute_result"
    }
   ],
   "source": [
    "model.energy_fc_alpha()"
   ]
  },
  {
   "cell_type": "code",
   "execution_count": null,
   "metadata": {},
   "outputs": [],
   "source": [
    "def small_hessian(f_alpha, state):\n",
    "    n = len(state[\"α\"])\n",
    "    \n",
    "    \n",
    "    return"
   ]
  },
  {
   "cell_type": "code",
   "execution_count": null,
   "metadata": {},
   "outputs": [],
   "source": [
    "small_hess = sp.hessian(model.energy_fc_alpha(), state[\"α\"])"
   ]
  },
  {
   "cell_type": "code",
   "execution_count": null,
   "metadata": {},
   "outputs": [
    {
     "data": {
      "text/latex": [
       "$\\displaystyle \\frac{0.5 E_{0} N^{2} t^{2} a{\\left(α_{1} \\right)} s^{2}{\\left(α_{1} \\right)}}{L^{2} \\left(s{\\left(α_{1} \\right)} + s{\\left(α_{2} \\right)}\\right)^{2}} + \\frac{0.5 E_{0} N^{2} t^{2} a{\\left(α_{2} \\right)} s^{2}{\\left(α_{2} \\right)}}{L^{2} \\left(s{\\left(α_{1} \\right)} + s{\\left(α_{2} \\right)}\\right)^{2}} + w_{1} w{\\left(α_{1} \\right)} + w_{1} w{\\left(α_{2} \\right)}$"
      ],
      "text/plain": [
       "0.5*E0*N**2*t**2*a(α1)*s(α1)**2/(L**2*(s(α1) + s(α2))**2) + 0.5*E0*N**2*t**2*a(α2)*s(α2)**2/(L**2*(s(α1) + s(α2))**2) + w1*w(α1) + w1*w(α2)"
      ]
     },
     "execution_count": 438,
     "metadata": {},
     "output_type": "execute_result"
    }
   ],
   "source": [
    "model.energy_fc_alpha()"
   ]
  },
  {
   "cell_type": "code",
   "execution_count": null,
   "metadata": {},
   "outputs": [
    {
     "data": {
      "text/plain": [
       "'α1'"
      ]
     },
     "execution_count": 455,
     "metadata": {},
     "output_type": "execute_result"
    }
   ],
   "source": [
    "state[\"α\"][0].name"
   ]
  },
  {
   "cell_type": "code",
   "execution_count": null,
   "metadata": {},
   "outputs": [
    {
     "data": {
      "text/plain": [
       "{s(α1): 1/a(α1), s(α2): 1/a(α2)}"
      ]
     },
     "execution_count": 456,
     "metadata": {},
     "output_type": "execute_result"
    }
   ],
   "source": [
    "subs_inverse = {sp.Function('s')(sp.Symbol(a.name)): 1/_a(a) for a in state[\"α\"]}\n",
    "subs_inverse\n"
   ]
  },
  {
   "cell_type": "code",
   "execution_count": null,
   "metadata": {},
   "outputs": [
    {
     "data": {
      "text/plain": [
       "{a(α1): 1/s(α1), a(α2): 1/s(α2)}"
      ]
     },
     "execution_count": 461,
     "metadata": {},
     "output_type": "execute_result"
    }
   ],
   "source": [
    "# subs_s_inverse = {sp.Function('s')(sp.Symbol(a.name)): 1/_a(a) for a in state[\"α\"]}\n",
    "subs_s_inverse = {sp.Function('a')(sp.Symbol(a.name)): 1/model.model._s(a) for a in state[\"α\"]}\n",
    "subs_s_inverse\n"
   ]
  },
  {
   "cell_type": "code",
   "execution_count": null,
   "metadata": {},
   "outputs": [
    {
     "data": {
      "text/latex": [
       "$\\displaystyle \\frac{0.5 E_{0} N^{2} t^{2}}{L^{2} \\left(\\frac{1}{a{\\left(α_{2} \\right)}} + \\frac{1}{a{\\left(α_{1} \\right)}}\\right)^{2} a{\\left(α_{2} \\right)}} + \\frac{0.5 E_{0} N^{2} t^{2}}{L^{2} \\left(\\frac{1}{a{\\left(α_{2} \\right)}} + \\frac{1}{a{\\left(α_{1} \\right)}}\\right)^{2} a{\\left(α_{1} \\right)}} + w_{1} w{\\left(α_{1} \\right)} + w_{1} w{\\left(α_{2} \\right)}$"
      ],
      "text/plain": [
       "0.5*E0*N**2*t**2/(L**2*(1/a(α2) + 1/a(α1))**2*a(α2)) + 0.5*E0*N**2*t**2/(L**2*(1/a(α2) + 1/a(α1))**2*a(α1)) + w1*w(α1) + w1*w(α2)"
      ]
     },
     "execution_count": 457,
     "metadata": {},
     "output_type": "execute_result"
    }
   ],
   "source": [
    "model.energy_fc_alpha().subs(subs_inverse)"
   ]
  },
  {
   "cell_type": "code",
   "execution_count": null,
   "metadata": {},
   "outputs": [
    {
     "data": {
      "text/latex": [
       "$\\displaystyle \\frac{0.5 E_{0} N^{2} t^{2} s{\\left(α_{1} \\right)}}{L^{2} \\left(s{\\left(α_{1} \\right)} + s{\\left(α_{2} \\right)}\\right)^{2}} + \\frac{0.5 E_{0} N^{2} t^{2} s{\\left(α_{2} \\right)}}{L^{2} \\left(s{\\left(α_{1} \\right)} + s{\\left(α_{2} \\right)}\\right)^{2}} + w_{1} w{\\left(α_{1} \\right)} + w_{1} w{\\left(α_{2} \\right)}$"
      ],
      "text/plain": [
       "0.5*E0*N**2*t**2*s(α1)/(L**2*(s(α1) + s(α2))**2) + 0.5*E0*N**2*t**2*s(α2)/(L**2*(s(α1) + s(α2))**2) + w1*w(α1) + w1*w(α2)"
      ]
     },
     "execution_count": 462,
     "metadata": {},
     "output_type": "execute_result"
    }
   ],
   "source": [
    "model.energy_fc_alpha().subs(subs_s_inverse)"
   ]
  },
  {
   "cell_type": "code",
   "execution_count": null,
   "metadata": {},
   "outputs": [
    {
     "data": {
      "text/plain": [
       "{a(α1): 1.0*((γ - 1)*w(α1) + 1)/(1 - w(α1)),\n",
       " a(α2): 1.0*((γ - 1)*w(α2) + 1)/(1 - w(α2))}"
      ]
     },
     "execution_count": 437,
     "metadata": {},
     "output_type": "execute_result"
    }
   ],
   "source": [
    "subs_stiffness = {_a(a): model.model.s(a) for a in state[\"α\"]}\n",
    "subs_stiffness"
   ]
  },
  {
   "cell_type": "code",
   "execution_count": null,
   "metadata": {},
   "outputs": [
    {
     "data": {
      "text/latex": [
       "$\\displaystyle \\left[\\begin{matrix}\\frac{0.5 E_{0} N^{2} t^{2} \\frac{d^{2}}{d α_{1}^{2}} s{\\left(α_{1} \\right)}}{L^{2} \\left(s{\\left(α_{1} \\right)} + s{\\left(α_{2} \\right)}\\right)^{2}} - \\frac{1.0 E_{0} N^{2} t^{2} s{\\left(α_{1} \\right)} \\frac{d^{2}}{d α_{1}^{2}} s{\\left(α_{1} \\right)}}{L^{2} \\left(s{\\left(α_{1} \\right)} + s{\\left(α_{2} \\right)}\\right)^{3}} - \\frac{1.0 E_{0} N^{2} t^{2} s{\\left(α_{2} \\right)} \\frac{d^{2}}{d α_{1}^{2}} s{\\left(α_{1} \\right)}}{L^{2} \\left(s{\\left(α_{1} \\right)} + s{\\left(α_{2} \\right)}\\right)^{3}} - \\frac{2.0 E_{0} N^{2} t^{2} \\left(\\frac{d}{d α_{1}} s{\\left(α_{1} \\right)}\\right)^{2}}{L^{2} \\left(s{\\left(α_{1} \\right)} + s{\\left(α_{2} \\right)}\\right)^{3}} + \\frac{3.0 E_{0} N^{2} t^{2} s{\\left(α_{1} \\right)} \\left(\\frac{d}{d α_{1}} s{\\left(α_{1} \\right)}\\right)^{2}}{L^{2} \\left(s{\\left(α_{1} \\right)} + s{\\left(α_{2} \\right)}\\right)^{4}} + \\frac{3.0 E_{0} N^{2} t^{2} s{\\left(α_{2} \\right)} \\left(\\frac{d}{d α_{1}} s{\\left(α_{1} \\right)}\\right)^{2}}{L^{2} \\left(s{\\left(α_{1} \\right)} + s{\\left(α_{2} \\right)}\\right)^{4}} + w_{1} \\frac{d^{2}}{d α_{1}^{2}} w{\\left(α_{1} \\right)} & - \\frac{2.0 E_{0} N^{2} t^{2} \\frac{d}{d α_{1}} s{\\left(α_{1} \\right)} \\frac{d}{d α_{2}} s{\\left(α_{2} \\right)}}{L^{2} \\left(s{\\left(α_{1} \\right)} + s{\\left(α_{2} \\right)}\\right)^{3}} + \\frac{3.0 E_{0} N^{2} t^{2} s{\\left(α_{1} \\right)} \\frac{d}{d α_{1}} s{\\left(α_{1} \\right)} \\frac{d}{d α_{2}} s{\\left(α_{2} \\right)}}{L^{2} \\left(s{\\left(α_{1} \\right)} + s{\\left(α_{2} \\right)}\\right)^{4}} + \\frac{3.0 E_{0} N^{2} t^{2} s{\\left(α_{2} \\right)} \\frac{d}{d α_{1}} s{\\left(α_{1} \\right)} \\frac{d}{d α_{2}} s{\\left(α_{2} \\right)}}{L^{2} \\left(s{\\left(α_{1} \\right)} + s{\\left(α_{2} \\right)}\\right)^{4}}\\\\- \\frac{2.0 E_{0} N^{2} t^{2} \\frac{d}{d α_{1}} s{\\left(α_{1} \\right)} \\frac{d}{d α_{2}} s{\\left(α_{2} \\right)}}{L^{2} \\left(s{\\left(α_{1} \\right)} + s{\\left(α_{2} \\right)}\\right)^{3}} + \\frac{3.0 E_{0} N^{2} t^{2} s{\\left(α_{1} \\right)} \\frac{d}{d α_{1}} s{\\left(α_{1} \\right)} \\frac{d}{d α_{2}} s{\\left(α_{2} \\right)}}{L^{2} \\left(s{\\left(α_{1} \\right)} + s{\\left(α_{2} \\right)}\\right)^{4}} + \\frac{3.0 E_{0} N^{2} t^{2} s{\\left(α_{2} \\right)} \\frac{d}{d α_{1}} s{\\left(α_{1} \\right)} \\frac{d}{d α_{2}} s{\\left(α_{2} \\right)}}{L^{2} \\left(s{\\left(α_{1} \\right)} + s{\\left(α_{2} \\right)}\\right)^{4}} & \\frac{0.5 E_{0} N^{2} t^{2} \\frac{d^{2}}{d α_{2}^{2}} s{\\left(α_{2} \\right)}}{L^{2} \\left(s{\\left(α_{1} \\right)} + s{\\left(α_{2} \\right)}\\right)^{2}} - \\frac{1.0 E_{0} N^{2} t^{2} s{\\left(α_{1} \\right)} \\frac{d^{2}}{d α_{2}^{2}} s{\\left(α_{2} \\right)}}{L^{2} \\left(s{\\left(α_{1} \\right)} + s{\\left(α_{2} \\right)}\\right)^{3}} - \\frac{1.0 E_{0} N^{2} t^{2} s{\\left(α_{2} \\right)} \\frac{d^{2}}{d α_{2}^{2}} s{\\left(α_{2} \\right)}}{L^{2} \\left(s{\\left(α_{1} \\right)} + s{\\left(α_{2} \\right)}\\right)^{3}} - \\frac{2.0 E_{0} N^{2} t^{2} \\left(\\frac{d}{d α_{2}} s{\\left(α_{2} \\right)}\\right)^{2}}{L^{2} \\left(s{\\left(α_{1} \\right)} + s{\\left(α_{2} \\right)}\\right)^{3}} + \\frac{3.0 E_{0} N^{2} t^{2} s{\\left(α_{1} \\right)} \\left(\\frac{d}{d α_{2}} s{\\left(α_{2} \\right)}\\right)^{2}}{L^{2} \\left(s{\\left(α_{1} \\right)} + s{\\left(α_{2} \\right)}\\right)^{4}} + \\frac{3.0 E_{0} N^{2} t^{2} s{\\left(α_{2} \\right)} \\left(\\frac{d}{d α_{2}} s{\\left(α_{2} \\right)}\\right)^{2}}{L^{2} \\left(s{\\left(α_{1} \\right)} + s{\\left(α_{2} \\right)}\\right)^{4}} + w_{1} \\frac{d^{2}}{d α_{2}^{2}} w{\\left(α_{2} \\right)}\\end{matrix}\\right]$"
      ],
      "text/plain": [
       "Matrix([\n",
       "[0.5*E0*N**2*t**2*Derivative(s(α1), (α1, 2))/(L**2*(s(α1) + s(α2))**2) - 1.0*E0*N**2*t**2*s(α1)*Derivative(s(α1), (α1, 2))/(L**2*(s(α1) + s(α2))**3) - 1.0*E0*N**2*t**2*s(α2)*Derivative(s(α1), (α1, 2))/(L**2*(s(α1) + s(α2))**3) - 2.0*E0*N**2*t**2*Derivative(s(α1), α1)**2/(L**2*(s(α1) + s(α2))**3) + 3.0*E0*N**2*t**2*s(α1)*Derivative(s(α1), α1)**2/(L**2*(s(α1) + s(α2))**4) + 3.0*E0*N**2*t**2*s(α2)*Derivative(s(α1), α1)**2/(L**2*(s(α1) + s(α2))**4) + w1*Derivative(w(α1), (α1, 2)),                                                                                                                                                                                                           -2.0*E0*N**2*t**2*Derivative(s(α1), α1)*Derivative(s(α2), α2)/(L**2*(s(α1) + s(α2))**3) + 3.0*E0*N**2*t**2*s(α1)*Derivative(s(α1), α1)*Derivative(s(α2), α2)/(L**2*(s(α1) + s(α2))**4) + 3.0*E0*N**2*t**2*s(α2)*Derivative(s(α1), α1)*Derivative(s(α2), α2)/(L**2*(s(α1) + s(α2))**4)],\n",
       "[                                                                                                                                                                                                          -2.0*E0*N**2*t**2*Derivative(s(α1), α1)*Derivative(s(α2), α2)/(L**2*(s(α1) + s(α2))**3) + 3.0*E0*N**2*t**2*s(α1)*Derivative(s(α1), α1)*Derivative(s(α2), α2)/(L**2*(s(α1) + s(α2))**4) + 3.0*E0*N**2*t**2*s(α2)*Derivative(s(α1), α1)*Derivative(s(α2), α2)/(L**2*(s(α1) + s(α2))**4), 0.5*E0*N**2*t**2*Derivative(s(α2), (α2, 2))/(L**2*(s(α1) + s(α2))**2) - 1.0*E0*N**2*t**2*s(α1)*Derivative(s(α2), (α2, 2))/(L**2*(s(α1) + s(α2))**3) - 1.0*E0*N**2*t**2*s(α2)*Derivative(s(α2), (α2, 2))/(L**2*(s(α1) + s(α2))**3) - 2.0*E0*N**2*t**2*Derivative(s(α2), α2)**2/(L**2*(s(α1) + s(α2))**3) + 3.0*E0*N**2*t**2*s(α1)*Derivative(s(α2), α2)**2/(L**2*(s(α1) + s(α2))**4) + 3.0*E0*N**2*t**2*s(α2)*Derivative(s(α2), α2)**2/(L**2*(s(α1) + s(α2))**4) + w1*Derivative(w(α2), (α2, 2))]])"
      ]
     },
     "execution_count": 463,
     "metadata": {},
     "output_type": "execute_result"
    }
   ],
   "source": [
    "small_hess = sp.hessian(model.energy_fc_alpha().subs(subs_s_inverse), state[\"α\"])\n",
    "small_hess"
   ]
  },
  {
   "cell_type": "code",
   "execution_count": null,
   "metadata": {},
   "outputs": [
    {
     "data": {
      "text/latex": [
       "$\\displaystyle \\frac{0.5 E_{0} N^{2} t^{2} s{\\left(α_{1} \\right)}}{L^{2} \\left(s{\\left(α_{1} \\right)} + s{\\left(α_{2} \\right)}\\right)^{2}} + \\frac{0.5 E_{0} N^{2} t^{2} s{\\left(α_{2} \\right)}}{L^{2} \\left(s{\\left(α_{1} \\right)} + s{\\left(α_{2} \\right)}\\right)^{2}} + w_{1} w{\\left(α_{1} \\right)} + w_{1} w{\\left(α_{2} \\right)}$"
      ],
      "text/plain": [
       "0.5*E0*N**2*t**2*s(α1)/(L**2*(s(α1) + s(α2))**2) + 0.5*E0*N**2*t**2*s(α2)/(L**2*(s(α1) + s(α2))**2) + w1*w(α1) + w1*w(α2)"
      ]
     },
     "execution_count": 465,
     "metadata": {},
     "output_type": "execute_result"
    }
   ],
   "source": [
    "model.energy_fc_alpha().subs(subs_s_inverse)"
   ]
  },
  {
   "cell_type": "code",
   "execution_count": null,
   "metadata": {},
   "outputs": [
    {
     "data": {
      "text/latex": [
       "$\\displaystyle \\frac{0.5 E_{0} N^{2} t^{2} \\frac{d^{2}}{d α_{1}^{2}} s{\\left(α_{1} \\right)}}{L^{2} \\left(s{\\left(α_{1} \\right)} + s{\\left(α_{2} \\right)}\\right)^{2}} - \\frac{1.0 E_{0} N^{2} t^{2} s{\\left(α_{1} \\right)} \\frac{d^{2}}{d α_{1}^{2}} s{\\left(α_{1} \\right)}}{L^{2} \\left(s{\\left(α_{1} \\right)} + s{\\left(α_{2} \\right)}\\right)^{3}} - \\frac{1.0 E_{0} N^{2} t^{2} s{\\left(α_{2} \\right)} \\frac{d^{2}}{d α_{1}^{2}} s{\\left(α_{1} \\right)}}{L^{2} \\left(s{\\left(α_{1} \\right)} + s{\\left(α_{2} \\right)}\\right)^{3}} - \\frac{2.0 E_{0} N^{2} t^{2} \\left(\\frac{d}{d α_{1}} s{\\left(α_{1} \\right)}\\right)^{2}}{L^{2} \\left(s{\\left(α_{1} \\right)} + s{\\left(α_{2} \\right)}\\right)^{3}} + \\frac{3.0 E_{0} N^{2} t^{2} s{\\left(α_{1} \\right)} \\left(\\frac{d}{d α_{1}} s{\\left(α_{1} \\right)}\\right)^{2}}{L^{2} \\left(s{\\left(α_{1} \\right)} + s{\\left(α_{2} \\right)}\\right)^{4}} + \\frac{3.0 E_{0} N^{2} t^{2} s{\\left(α_{2} \\right)} \\left(\\frac{d}{d α_{1}} s{\\left(α_{1} \\right)}\\right)^{2}}{L^{2} \\left(s{\\left(α_{1} \\right)} + s{\\left(α_{2} \\right)}\\right)^{4}} + w_{1} \\frac{d^{2}}{d α_{1}^{2}} w{\\left(α_{1} \\right)}$"
      ],
      "text/plain": [
       "0.5*E0*N**2*t**2*Derivative(s(α1), (α1, 2))/(L**2*(s(α1) + s(α2))**2) - 1.0*E0*N**2*t**2*s(α1)*Derivative(s(α1), (α1, 2))/(L**2*(s(α1) + s(α2))**3) - 1.0*E0*N**2*t**2*s(α2)*Derivative(s(α1), (α1, 2))/(L**2*(s(α1) + s(α2))**3) - 2.0*E0*N**2*t**2*Derivative(s(α1), α1)**2/(L**2*(s(α1) + s(α2))**3) + 3.0*E0*N**2*t**2*s(α1)*Derivative(s(α1), α1)**2/(L**2*(s(α1) + s(α2))**4) + 3.0*E0*N**2*t**2*s(α2)*Derivative(s(α1), α1)**2/(L**2*(s(α1) + s(α2))**4) + w1*Derivative(w(α1), (α1, 2))"
      ]
     },
     "execution_count": 464,
     "metadata": {},
     "output_type": "execute_result"
    }
   ],
   "source": [
    "small_hess[0, 0]"
   ]
  },
  {
   "cell_type": "code",
   "execution_count": null,
   "metadata": {},
   "outputs": [
    {
     "data": {
      "text/plain": [
       "\"Add(Mul(Float('0.5', precision=53), Symbol('E0'), Pow(Symbol('L'), Integer(-2)), Pow(Symbol('N'), Integer(2)), Pow(Symbol('t'), Integer(2)), Pow(Add(Function('s')(Symbol('α1')), Function('s')(Symbol('α2'))), Integer(-2)), Function('a')(Symbol('α1')), Pow(Function('s')(Symbol('α1')), Integer(2))), Mul(Float('0.5', precision=53), Symbol('E0'), Pow(Symbol('L'), Integer(-2)), Pow(Symbol('N'), Integer(2)), Pow(Symbol('t'), Integer(2)), Pow(Add(Function('s')(Symbol('α1')), Function('s')(Symbol('α2'))), Integer(-2)), Function('a')(Symbol('α2')), Pow(Function('s')(Symbol('α2')), Integer(2))), Mul(Symbol('w1'), Function('w')(Symbol('α1'))), Mul(Symbol('w1'), Function('w')(Symbol('α2'))))\""
      ]
     },
     "execution_count": 448,
     "metadata": {},
     "output_type": "execute_result"
    }
   ],
   "source": [
    "sp.srepr(model.energy_fc_alpha())"
   ]
  },
  {
   "cell_type": "code",
   "execution_count": null,
   "metadata": {},
   "outputs": [
    {
     "data": {
      "text/latex": [
       "$\\displaystyle \\frac{0.5 E_{0} N^{2} t^{2} \\frac{d}{d α_{1}} s{\\left(α_{1} \\right)}}{L^{2} \\left(s{\\left(α_{1} \\right)} + s{\\left(α_{2} \\right)}\\right)^{2}} - \\frac{1.0 E_{0} N^{2} t^{2} s{\\left(α_{1} \\right)} \\frac{d}{d α_{1}} s{\\left(α_{1} \\right)}}{L^{2} \\left(s{\\left(α_{1} \\right)} + s{\\left(α_{2} \\right)}\\right)^{3}} - \\frac{1.0 E_{0} N^{2} t^{2} s{\\left(α_{2} \\right)} \\frac{d}{d α_{1}} s{\\left(α_{1} \\right)}}{L^{2} \\left(s{\\left(α_{1} \\right)} + s{\\left(α_{2} \\right)}\\right)^{3}} + w_{1} \\frac{d}{d α_{1}} w{\\left(α_{1} \\right)}$"
      ],
      "text/plain": [
       "0.5*E0*N**2*t**2*Derivative(s(α1), α1)/(L**2*(s(α1) + s(α2))**2) - 1.0*E0*N**2*t**2*s(α1)*Derivative(s(α1), α1)/(L**2*(s(α1) + s(α2))**3) - 1.0*E0*N**2*t**2*s(α2)*Derivative(s(α1), α1)/(L**2*(s(α1) + s(α2))**3) + w1*Derivative(w(α1), α1)"
      ]
     },
     "execution_count": 466,
     "metadata": {},
     "output_type": "execute_result"
    }
   ],
   "source": [
    "sp.diff(model.energy_fc_alpha().subs(subs_s_inverse), state[\"α\"][0])"
   ]
  },
  {
   "cell_type": "code",
   "execution_count": null,
   "metadata": {},
   "outputs": [
    {
     "data": {
      "text/latex": [
       "$\\displaystyle a{\\left(0 \\right)} + a{\\left(1 \\right)} + a{\\left(2 \\right)}$"
      ],
      "text/plain": [
       "a(0) + a(1) + a(2)"
      ]
     },
     "execution_count": 473,
     "metadata": {},
     "output_type": "execute_result"
    }
   ],
   "source": [
    "_i = sp.symbols('i')\n",
    "sum = sp.summation(_a(_i), (_i, 0, len(state[\"α\"])))\n",
    "sum"
   ]
  },
  {
   "cell_type": "code",
   "execution_count": null,
   "metadata": {},
   "outputs": [
    {
     "ename": "TypeError",
     "evalue": "'Add' object is not callable",
     "output_type": "error",
     "traceback": [
      "\u001b[0;31m---------------------------------------------------------------------------\u001b[0m",
      "\u001b[0;31mTypeError\u001b[0m                                 Traceback (most recent call last)",
      "\u001b[1;32m/Users/kumiori/Documents/WIP/m4s-MEC647/mec647/playground/nb/discrete_bar-symbolic.ipynb Cell 81\u001b[0m in \u001b[0;36m<cell line: 1>\u001b[0;34m()\u001b[0m\n\u001b[0;32m----> <a href='vscode-notebook-cell:/Users/kumiori/Documents/WIP/m4s-MEC647/mec647/playground/nb/discrete_bar-symbolic.ipynb#Y225sZmlsZQ%3D%3D?line=0'>1</a>\u001b[0m model\u001b[39m.\u001b[39;49menergy_fc_alpha()\n",
      "\u001b[1;32m/Users/kumiori/Documents/WIP/m4s-MEC647/mec647/playground/nb/discrete_bar-symbolic.ipynb Cell 81\u001b[0m in \u001b[0;36mModelAnalysis.energy_fc_alpha\u001b[0;34m(self)\u001b[0m\n\u001b[1;32m     <a href='vscode-notebook-cell:/Users/kumiori/Documents/WIP/m4s-MEC647/mec647/playground/nb/discrete_bar-symbolic.ipynb#Y225sZmlsZQ%3D%3D?line=84'>85</a>\u001b[0m \u001b[39mdef\u001b[39;00m \u001b[39menergy_fc_alpha\u001b[39m(\u001b[39mself\u001b[39m):\n\u001b[0;32m---> <a href='vscode-notebook-cell:/Users/kumiori/Documents/WIP/m4s-MEC647/mec647/playground/nb/discrete_bar-symbolic.ipynb#Y225sZmlsZQ%3D%3D?line=85'>86</a>\u001b[0m     _ei \u001b[39m=\u001b[39m \u001b[39mself\u001b[39;49m\u001b[39m.\u001b[39;49m_equilirbrium_e()\n\u001b[1;32m     <a href='vscode-notebook-cell:/Users/kumiori/Documents/WIP/m4s-MEC647/mec647/playground/nb/discrete_bar-symbolic.ipynb#Y225sZmlsZQ%3D%3D?line=86'>87</a>\u001b[0m     state \u001b[39m=\u001b[39m \u001b[39mself\u001b[39m\u001b[39m.\u001b[39mstate\n\u001b[1;32m     <a href='vscode-notebook-cell:/Users/kumiori/Documents/WIP/m4s-MEC647/mec647/playground/nb/discrete_bar-symbolic.ipynb#Y225sZmlsZQ%3D%3D?line=87'>88</a>\u001b[0m     equilibrium_subs \u001b[39m=\u001b[39m {v[\u001b[39m0\u001b[39m]: v[\u001b[39m1\u001b[39m] \u001b[39mfor\u001b[39;00m v \u001b[39min\u001b[39;00m \u001b[39mzip\u001b[39m(state[\u001b[39m\"\u001b[39m\u001b[39me\u001b[39m\u001b[39m\"\u001b[39m], _ei)}\n",
      "\u001b[1;32m/Users/kumiori/Documents/WIP/m4s-MEC647/mec647/playground/nb/discrete_bar-symbolic.ipynb Cell 81\u001b[0m in \u001b[0;36mModelAnalysis._equilirbrium_e\u001b[0;34m(self)\u001b[0m\n\u001b[1;32m     <a href='vscode-notebook-cell:/Users/kumiori/Documents/WIP/m4s-MEC647/mec647/playground/nb/discrete_bar-symbolic.ipynb#Y225sZmlsZQ%3D%3D?line=75'>76</a>\u001b[0m state \u001b[39m=\u001b[39m \u001b[39mself\u001b[39m\u001b[39m.\u001b[39mstate\n\u001b[1;32m     <a href='vscode-notebook-cell:/Users/kumiori/Documents/WIP/m4s-MEC647/mec647/playground/nb/discrete_bar-symbolic.ipynb#Y225sZmlsZQ%3D%3D?line=76'>77</a>\u001b[0m t, L, N \u001b[39m=\u001b[39m  sp\u001b[39m.\u001b[39msymbols(\u001b[39m'\u001b[39m\u001b[39mt L N\u001b[39m\u001b[39m'\u001b[39m)\n\u001b[0;32m---> <a href='vscode-notebook-cell:/Users/kumiori/Documents/WIP/m4s-MEC647/mec647/playground/nb/discrete_bar-symbolic.ipynb#Y225sZmlsZQ%3D%3D?line=77'>78</a>\u001b[0m _S \u001b[39m=\u001b[39m \u001b[39msum\u001b[39;49m([\u001b[39mself\u001b[39;49m\u001b[39m.\u001b[39;49mmodel\u001b[39m.\u001b[39;49m_s(αi) \u001b[39mfor\u001b[39;49;00m αi \u001b[39min\u001b[39;49;00m state[\u001b[39m\"\u001b[39;49m\u001b[39mα\u001b[39;49m\u001b[39m\"\u001b[39;49m]])\n\u001b[1;32m     <a href='vscode-notebook-cell:/Users/kumiori/Documents/WIP/m4s-MEC647/mec647/playground/nb/discrete_bar-symbolic.ipynb#Y225sZmlsZQ%3D%3D?line=79'>80</a>\u001b[0m _e \u001b[39m=\u001b[39m [(N\u001b[39m*\u001b[39mt\u001b[39m/\u001b[39mL \u001b[39m*\u001b[39m \u001b[39mself\u001b[39m\u001b[39m.\u001b[39mmodel\u001b[39m.\u001b[39m_s(αi) \u001b[39m/\u001b[39m _S)\u001b[39m.\u001b[39msimplify() \\\n\u001b[1;32m     <a href='vscode-notebook-cell:/Users/kumiori/Documents/WIP/m4s-MEC647/mec647/playground/nb/discrete_bar-symbolic.ipynb#Y225sZmlsZQ%3D%3D?line=80'>81</a>\u001b[0m             \u001b[39mfor\u001b[39;00m αi \u001b[39min\u001b[39;00m state[\u001b[39m\"\u001b[39m\u001b[39mα\u001b[39m\u001b[39m\"\u001b[39m]]\n\u001b[1;32m     <a href='vscode-notebook-cell:/Users/kumiori/Documents/WIP/m4s-MEC647/mec647/playground/nb/discrete_bar-symbolic.ipynb#Y225sZmlsZQ%3D%3D?line=82'>83</a>\u001b[0m \u001b[39mreturn\u001b[39;00m _e\n",
      "\u001b[0;31mTypeError\u001b[0m: 'Add' object is not callable"
     ]
    }
   ],
   "source": [
    "model.energy_fc_alpha()"
   ]
  },
  {
   "cell_type": "code",
   "execution_count": null,
   "metadata": {},
   "outputs": [],
   "source": []
  }
 ],
 "metadata": {
  "kernelspec": {
   "display_name": ".virtual",
   "language": "python",
   "name": "python3"
  },
  "language_info": {
   "codemirror_mode": {
    "name": "ipython",
    "version": 3
   },
   "file_extension": ".py",
   "mimetype": "text/x-python",
   "name": "python",
   "nbconvert_exporter": "python",
   "pygments_lexer": "ipython3",
   "version": "3.12.7"
  },
  "orig_nbformat": 4
 },
 "nbformat": 4,
 "nbformat_minor": 2
}
